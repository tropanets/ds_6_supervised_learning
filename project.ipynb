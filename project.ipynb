{
 "cells": [
  {
   "cell_type": "markdown",
   "metadata": {
    "toc": true
   },
   "source": [
    "<h1>Содержание<span class=\"tocSkip\"></span></h1>\n",
    "<div class=\"toc\"><ul class=\"toc-item\"><li><span><a href=\"#Подготовка-данных\" data-toc-modified-id=\"Подготовка-данных-1\"><span class=\"toc-item-num\">1&nbsp;&nbsp;</span>Подготовка данных</a></span></li><li><span><a href=\"#Исследование-задачи\" data-toc-modified-id=\"Исследование-задачи-2\"><span class=\"toc-item-num\">2&nbsp;&nbsp;</span>Исследование задачи</a></span></li><li><span><a href=\"#Борьба-с-дисбалансом\" data-toc-modified-id=\"Борьба-с-дисбалансом-3\"><span class=\"toc-item-num\">3&nbsp;&nbsp;</span>Борьба с дисбалансом</a></span></li><li><span><a href=\"#Тестирование-модели\" data-toc-modified-id=\"Тестирование-модели-4\"><span class=\"toc-item-num\">4&nbsp;&nbsp;</span>Тестирование модели</a></span></li><li><span><a href=\"#Чек-лист-готовности-проекта\" data-toc-modified-id=\"Чек-лист-готовности-проекта-5\"><span class=\"toc-item-num\">5&nbsp;&nbsp;</span>Чек-лист готовности проекта</a></span></li></ul></div>"
   ]
  },
  {
   "cell_type": "markdown",
   "metadata": {},
   "source": [
    "# Отток клиентов"
   ]
  },
  {
   "cell_type": "markdown",
   "metadata": {},
   "source": [
    "Из «Бета-Банка» стали уходить клиенты. Каждый месяц. Немного, но заметно. Банковские маркетологи посчитали: сохранять текущих клиентов дешевле, чем привлекать новых.\n",
    "\n",
    "Нужно спрогнозировать, уйдёт клиент из банка в ближайшее время или нет. Нам предоставлены исторические данные о поведении клиентов и расторжении договоров с банком. \n",
    "\n",
    "Построим модель с предельно большим значением *F1*-меры. Чтобы сдать проект успешно, нужно довести метрику до 0.59. Проверим *F1*-меру на тестовой выборке самостоятельно.\n",
    "\n",
    "Дополнительно измерим *AUC-ROC*, сравним её значение с *F1*-мерой.\n",
    "\n",
    "Источник данных: [https://www.kaggle.com/barelydedicated/bank-customer-churn-modeling](https://www.kaggle.com/barelydedicated/bank-customer-churn-modeling)"
   ]
  },
  {
   "cell_type": "markdown",
   "metadata": {},
   "source": [
    "## Подготовка данных"
   ]
  },
  {
   "cell_type": "code",
   "execution_count": 1,
   "metadata": {},
   "outputs": [],
   "source": [
    "import pandas as pd\n",
    "import matplotlib.pyplot as plt\n",
    "import numpy as np\n",
    "#import sweetviz as sv\n",
    "#import pandas_profiling as pp\n",
    "\n",
    "from random import randint\n",
    "\n",
    "from sklearn.model_selection import train_test_split\n",
    "from sklearn.linear_model import LogisticRegression\n",
    "from sklearn.tree import DecisionTreeClassifier\n",
    "from sklearn.ensemble import RandomForestClassifier\n",
    "from sklearn.naive_bayes import GaussianNB\n",
    "from sklearn.metrics import f1_score, precision_score, recall_score, accuracy_score, roc_auc_score, roc_curve\n",
    "from sklearn.utils import shuffle"
   ]
  },
  {
   "cell_type": "markdown",
   "metadata": {},
   "source": [
    "<div class=\"alert alert-block alert-success\">\n",
    "<b>Успех:</b> Импорты на месте\n",
    "</div>\n"
   ]
  },
  {
   "cell_type": "code",
   "execution_count": 2,
   "metadata": {},
   "outputs": [],
   "source": [
    "data = pd.read_csv('/datasets/Churn.csv')"
   ]
  },
  {
   "cell_type": "code",
   "execution_count": 3,
   "metadata": {},
   "outputs": [
    {
     "name": "stdout",
     "output_type": "stream",
     "text": [
      "<class 'pandas.core.frame.DataFrame'>\n",
      "RangeIndex: 10000 entries, 0 to 9999\n",
      "Data columns (total 14 columns):\n",
      " #   Column           Non-Null Count  Dtype  \n",
      "---  ------           --------------  -----  \n",
      " 0   RowNumber        10000 non-null  int64  \n",
      " 1   CustomerId       10000 non-null  int64  \n",
      " 2   Surname          10000 non-null  object \n",
      " 3   CreditScore      10000 non-null  int64  \n",
      " 4   Geography        10000 non-null  object \n",
      " 5   Gender           10000 non-null  object \n",
      " 6   Age              10000 non-null  int64  \n",
      " 7   Tenure           9091 non-null   float64\n",
      " 8   Balance          10000 non-null  float64\n",
      " 9   NumOfProducts    10000 non-null  int64  \n",
      " 10  HasCrCard        10000 non-null  int64  \n",
      " 11  IsActiveMember   10000 non-null  int64  \n",
      " 12  EstimatedSalary  10000 non-null  float64\n",
      " 13  Exited           10000 non-null  int64  \n",
      "dtypes: float64(3), int64(8), object(3)\n",
      "memory usage: 1.1+ MB\n"
     ]
    }
   ],
   "source": [
    "data.info()"
   ]
  },
  {
   "cell_type": "markdown",
   "metadata": {},
   "source": [
    "Признаки:\n",
    "- RowNumber — индекс строки в данных (int64)\n",
    "- CustomerId — уникальный идентификатор клиента (int64)\n",
    "- Surname — фамилия (object)\n",
    "- CreditScore — кредитный рейтинг (int64)\n",
    "- Geography — страна проживания (object)\n",
    "- Gender — пол (object)\n",
    "- Age — возраст (int64)\n",
    "- Tenure — количество недвижимости у клиента (float64)\n",
    "- Balance — баланс на счёте (float64)\n",
    "- NumOfProducts — количество продуктов банка, используемых клиентом (int64)\n",
    "- HasCrCard — наличие кредитной карты (int64)\n",
    "- IsActiveMember — активность клиента (int64)\n",
    "- EstimatedSalary — предполагаемая зарплата (float64) ### Целевой признак:\n",
    "- Exited — факт ухода клиента (int64)"
   ]
  },
  {
   "cell_type": "markdown",
   "metadata": {},
   "source": [
    "В наших данных присутствуют столбцы, которые нам не нужны, удалим их. \n",
    "\n",
    "Также есть пропуски в значении Tenure (количество недвижимости). Можно предположить, что у клиента недвижимость отсутствует, думаю пропуски лучше заменить на 0. "
   ]
  },
  {
   "cell_type": "markdown",
   "metadata": {},
   "source": [
    "Удалим столбецы RowNumber, CustomerId и Surname. Они не нужны при исследовании модели. \n",
    "\n",
    "RowNumber повторяет индекс датафрейма, CustomerId - случайный или последовательный номер, который никак не зависит от действий пользователя. Surname - признак, который отличается от человека к человеку и является именем в обществе. Это не гарант того, что клиент останется или уйдет."
   ]
  },
  {
   "cell_type": "code",
   "execution_count": 4,
   "metadata": {},
   "outputs": [],
   "source": [
    "del_col = ['RowNumber', 'CustomerId', 'Surname']\n",
    "data = data.drop(del_col, axis=1)"
   ]
  },
  {
   "cell_type": "markdown",
   "metadata": {},
   "source": [
    "Заполним пропуски 0 в Tenure"
   ]
  },
  {
   "cell_type": "code",
   "execution_count": 11,
   "metadata": {},
   "outputs": [],
   "source": [
    "data['Tenure'] = data['Tenure'].fillna(randint(0, 10)).astype('int64')"
   ]
  },
  {
   "cell_type": "code",
   "execution_count": 12,
   "metadata": {},
   "outputs": [
    {
     "name": "stdout",
     "output_type": "stream",
     "text": [
      "<class 'pandas.core.frame.DataFrame'>\n",
      "RangeIndex: 10000 entries, 0 to 9999\n",
      "Data columns (total 11 columns):\n",
      " #   Column           Non-Null Count  Dtype  \n",
      "---  ------           --------------  -----  \n",
      " 0   CreditScore      10000 non-null  int64  \n",
      " 1   Geography        10000 non-null  object \n",
      " 2   Gender           10000 non-null  object \n",
      " 3   Age              10000 non-null  int64  \n",
      " 4   Tenure           10000 non-null  int64  \n",
      " 5   Balance          10000 non-null  float64\n",
      " 6   NumOfProducts    10000 non-null  int64  \n",
      " 7   HasCrCard        10000 non-null  int64  \n",
      " 8   IsActiveMember   10000 non-null  int64  \n",
      " 9   EstimatedSalary  10000 non-null  float64\n",
      " 10  Exited           10000 non-null  int64  \n",
      "dtypes: float64(2), int64(7), object(2)\n",
      "memory usage: 859.5+ KB\n"
     ]
    }
   ],
   "source": [
    "data.info()"
   ]
  },
  {
   "cell_type": "code",
   "execution_count": 13,
   "metadata": {
    "scrolled": true
   },
   "outputs": [
    {
     "data": {
      "text/html": [
       "<div>\n",
       "<style scoped>\n",
       "    .dataframe tbody tr th:only-of-type {\n",
       "        vertical-align: middle;\n",
       "    }\n",
       "\n",
       "    .dataframe tbody tr th {\n",
       "        vertical-align: top;\n",
       "    }\n",
       "\n",
       "    .dataframe thead th {\n",
       "        text-align: right;\n",
       "    }\n",
       "</style>\n",
       "<table border=\"1\" class=\"dataframe\">\n",
       "  <thead>\n",
       "    <tr style=\"text-align: right;\">\n",
       "      <th></th>\n",
       "      <th>CreditScore</th>\n",
       "      <th>Geography</th>\n",
       "      <th>Gender</th>\n",
       "      <th>Age</th>\n",
       "      <th>Tenure</th>\n",
       "      <th>Balance</th>\n",
       "      <th>NumOfProducts</th>\n",
       "      <th>HasCrCard</th>\n",
       "      <th>IsActiveMember</th>\n",
       "      <th>EstimatedSalary</th>\n",
       "      <th>Exited</th>\n",
       "    </tr>\n",
       "  </thead>\n",
       "  <tbody>\n",
       "    <tr>\n",
       "      <th>0</th>\n",
       "      <td>619</td>\n",
       "      <td>France</td>\n",
       "      <td>Female</td>\n",
       "      <td>42</td>\n",
       "      <td>2</td>\n",
       "      <td>0.00</td>\n",
       "      <td>1</td>\n",
       "      <td>1</td>\n",
       "      <td>1</td>\n",
       "      <td>101348.88</td>\n",
       "      <td>1</td>\n",
       "    </tr>\n",
       "    <tr>\n",
       "      <th>1</th>\n",
       "      <td>608</td>\n",
       "      <td>Spain</td>\n",
       "      <td>Female</td>\n",
       "      <td>41</td>\n",
       "      <td>1</td>\n",
       "      <td>83807.86</td>\n",
       "      <td>1</td>\n",
       "      <td>0</td>\n",
       "      <td>1</td>\n",
       "      <td>112542.58</td>\n",
       "      <td>0</td>\n",
       "    </tr>\n",
       "    <tr>\n",
       "      <th>2</th>\n",
       "      <td>502</td>\n",
       "      <td>France</td>\n",
       "      <td>Female</td>\n",
       "      <td>42</td>\n",
       "      <td>8</td>\n",
       "      <td>159660.80</td>\n",
       "      <td>3</td>\n",
       "      <td>1</td>\n",
       "      <td>0</td>\n",
       "      <td>113931.57</td>\n",
       "      <td>1</td>\n",
       "    </tr>\n",
       "    <tr>\n",
       "      <th>3</th>\n",
       "      <td>699</td>\n",
       "      <td>France</td>\n",
       "      <td>Female</td>\n",
       "      <td>39</td>\n",
       "      <td>1</td>\n",
       "      <td>0.00</td>\n",
       "      <td>2</td>\n",
       "      <td>0</td>\n",
       "      <td>0</td>\n",
       "      <td>93826.63</td>\n",
       "      <td>0</td>\n",
       "    </tr>\n",
       "    <tr>\n",
       "      <th>4</th>\n",
       "      <td>850</td>\n",
       "      <td>Spain</td>\n",
       "      <td>Female</td>\n",
       "      <td>43</td>\n",
       "      <td>2</td>\n",
       "      <td>125510.82</td>\n",
       "      <td>1</td>\n",
       "      <td>1</td>\n",
       "      <td>1</td>\n",
       "      <td>79084.10</td>\n",
       "      <td>0</td>\n",
       "    </tr>\n",
       "  </tbody>\n",
       "</table>\n",
       "</div>"
      ],
      "text/plain": [
       "   CreditScore Geography  Gender  Age  Tenure    Balance  NumOfProducts  \\\n",
       "0          619    France  Female   42       2       0.00              1   \n",
       "1          608     Spain  Female   41       1   83807.86              1   \n",
       "2          502    France  Female   42       8  159660.80              3   \n",
       "3          699    France  Female   39       1       0.00              2   \n",
       "4          850     Spain  Female   43       2  125510.82              1   \n",
       "\n",
       "   HasCrCard  IsActiveMember  EstimatedSalary  Exited  \n",
       "0          1               1        101348.88       1  \n",
       "1          0               1        112542.58       0  \n",
       "2          1               0        113931.57       1  \n",
       "3          0               0         93826.63       0  \n",
       "4          1               1         79084.10       0  "
      ]
     },
     "execution_count": 13,
     "metadata": {},
     "output_type": "execute_result"
    }
   ],
   "source": [
    "data.head()"
   ]
  },
  {
   "cell_type": "code",
   "execution_count": 14,
   "metadata": {},
   "outputs": [],
   "source": [
    "#pandas_profiling.ProfileReport(data)\n",
    "#report = sv.analyze(data)"
   ]
  },
  {
   "cell_type": "markdown",
   "metadata": {},
   "source": [
    "## Исследование задачи"
   ]
  },
  {
   "cell_type": "markdown",
   "metadata": {},
   "source": [
    "Создадим датафрейм, созданный по методу прямого кодирования с защитой от дамми-ловушки."
   ]
  },
  {
   "cell_type": "code",
   "execution_count": 15,
   "metadata": {
    "scrolled": true
   },
   "outputs": [
    {
     "name": "stdout",
     "output_type": "stream",
     "text": [
      "<class 'pandas.core.frame.DataFrame'>\n",
      "RangeIndex: 10000 entries, 0 to 9999\n",
      "Data columns (total 12 columns):\n",
      " #   Column             Non-Null Count  Dtype  \n",
      "---  ------             --------------  -----  \n",
      " 0   CreditScore        10000 non-null  int64  \n",
      " 1   Age                10000 non-null  int64  \n",
      " 2   Tenure             10000 non-null  int64  \n",
      " 3   Balance            10000 non-null  float64\n",
      " 4   NumOfProducts      10000 non-null  int64  \n",
      " 5   HasCrCard          10000 non-null  int64  \n",
      " 6   IsActiveMember     10000 non-null  int64  \n",
      " 7   EstimatedSalary    10000 non-null  float64\n",
      " 8   Exited             10000 non-null  int64  \n",
      " 9   Geography_Germany  10000 non-null  uint8  \n",
      " 10  Geography_Spain    10000 non-null  uint8  \n",
      " 11  Gender_Male        10000 non-null  uint8  \n",
      "dtypes: float64(2), int64(7), uint8(3)\n",
      "memory usage: 732.5 KB\n"
     ]
    }
   ],
   "source": [
    "ohe_churn_data = pd.get_dummies(data, drop_first=True)\n",
    "ohe_churn_data.info()"
   ]
  },
  {
   "cell_type": "markdown",
   "metadata": {},
   "source": [
    "Будем использовать следующие модели:\n",
    "- Дерево решения\n",
    "- Случайный лес\n",
    "- Логистическая регрессия\n",
    "\n",
    "Разобъем данные по принципу 60/20/20."
   ]
  },
  {
   "cell_type": "code",
   "execution_count": 16,
   "metadata": {},
   "outputs": [
    {
     "name": "stdout",
     "output_type": "stream",
     "text": [
      "(6000, 11) (2000, 11) (2000, 11)\n",
      "(6000,) (2000,) (2000,)\n"
     ]
    }
   ],
   "source": [
    "target = ohe_churn_data['Exited']\n",
    "features = ohe_churn_data.drop('Exited', axis=1)\n",
    "\n",
    "features_train, features_valid, target_train, target_valid = train_test_split(features, target, test_size=0.4, \n",
    "                                                                              random_state=12345)\n",
    "features_valid, features_test, target_valid, target_test = train_test_split(features_valid, target_valid, test_size=0.5, \n",
    "                                                                              random_state=12345 )\n",
    "print(features_train.shape, features_valid.shape, features_test.shape)\n",
    "print(target_train.shape, target_valid.shape, target_test.shape)"
   ]
  },
  {
   "cell_type": "markdown",
   "metadata": {},
   "source": [
    "Посмотрим, какой существует дисбаланс классов."
   ]
  },
  {
   "cell_type": "code",
   "execution_count": 17,
   "metadata": {
    "scrolled": true
   },
   "outputs": [
    {
     "data": {
      "text/plain": [
       "0    7963\n",
       "1    2037\n",
       "Name: Exited, dtype: int64"
      ]
     },
     "execution_count": 17,
     "metadata": {},
     "output_type": "execute_result"
    }
   ],
   "source": [
    "target.value_counts()"
   ]
  },
  {
   "cell_type": "markdown",
   "metadata": {},
   "source": [
    "Соотношение классов 1:4. Изучим модели без исправление баланса."
   ]
  },
  {
   "cell_type": "markdown",
   "metadata": {},
   "source": [
    "Начнем с модели Дерево решения, проведем исследование при разном значении max_depth."
   ]
  },
  {
   "cell_type": "code",
   "execution_count": 36,
   "metadata": {
    "scrolled": true
   },
   "outputs": [
    {
     "name": "stdout",
     "output_type": "stream",
     "text": [
      "Max depth 2 F1-score 0.5217391304347825\n",
      "Max depth 3 F1-score 0.4234875444839857\n",
      "Max depth 4 F1-score 0.5528700906344411\n",
      "Max depth 5 F1-score 0.5406249999999999\n",
      "Max depth 6 F1-score 0.5696969696969697\n",
      "Max depth 7 F1-score 0.5320813771517998\n",
      "Max depth 8 F1-score 0.5449010654490106\n",
      "Max depth 9 F1-score 0.5766526019690578\n",
      "Max depth 10 F1-score 0.5227272727272727\n",
      "Max depth 11 F1-score 0.5226666666666667\n",
      "Max depth 12 F1-score 0.5149544863459038\n",
      "Max depth 13 F1-score 0.5301837270341208\n",
      "Max depth 14 F1-score 0.51010101010101\n",
      "Max depth 15 F1-score 0.5062972292191436\n",
      "Max depth 16 F1-score 0.4930817610062893\n",
      "Max depth 17 F1-score 0.5036319612590799\n",
      "Max depth 18 F1-score 0.4889975550122249\n",
      "Max depth 19 F1-score 0.4940047961630695\n",
      "Max depth 20 F1-score 0.4981684981684981\n",
      "Max depth 21 F1-score 0.5\n",
      "Max depth 22 F1-score 0.5012165450121654\n",
      "Max depth 23 F1-score 0.5012165450121654\n",
      "Max depth 24 F1-score 0.5012165450121654\n",
      "Max depth 25 F1-score 0.5012165450121654\n",
      "Max depth 26 F1-score 0.5012165450121654\n",
      "Max depth 27 F1-score 0.5012165450121654\n",
      "Max depth 28 F1-score 0.5012165450121654\n",
      "Max depth 29 F1-score 0.5012165450121654\n",
      "CPU times: user 743 ms, sys: 4.06 ms, total: 747 ms\n",
      "Wall time: 745 ms\n"
     ]
    }
   ],
   "source": [
    "%%time\n",
    "\n",
    "for depth_dtc in range(2, 30):\n",
    "    model_dtc = DecisionTreeClassifier(random_state=12345, max_depth=depth_dtc)\n",
    "    model_dtc.fit(features_train, target_train)\n",
    "    predicted_valid = model_dtc.predict(features_valid)\n",
    "    print('Max depth', depth_dtc, 'F1-score', f1_score(target_valid, predicted_valid))"
   ]
  },
  {
   "cell_type": "markdown",
   "metadata": {},
   "source": [
    "Как видим, лучший результат у max_depth = 9. F1 = 0.576"
   ]
  },
  {
   "cell_type": "markdown",
   "metadata": {},
   "source": [
    "Теперь рассмотрим, как поведет себя Случайный лес."
   ]
  },
  {
   "cell_type": "code",
   "execution_count": 37,
   "metadata": {},
   "outputs": [
    {
     "name": "stdout",
     "output_type": "stream",
     "text": [
      "N estimators 50 F1 0.5606060606060607\n",
      "N estimators 60 F1 0.563165905631659\n",
      "N estimators 70 F1 0.56797583081571\n",
      "N estimators 80 F1 0.5731523378582202\n",
      "N estimators 90 F1 0.5705705705705705\n",
      "N estimators 100 F1 0.5692771084337349\n",
      "N estimators 110 F1 0.5735735735735735\n",
      "N estimators 120 F1 0.5735735735735735\n",
      "N estimators 130 F1 0.574436090225564\n",
      "N estimators 140 F1 0.5791855203619909\n",
      "N estimators 150 F1 0.5783132530120483\n",
      "N estimators 160 F1 0.5791855203619909\n",
      "N estimators 170 F1 0.5744680851063829\n",
      "N estimators 180 F1 0.5770392749244713\n",
      "N estimators 190 F1 0.5791855203619909\n",
      "N estimators 200 F1 0.5779122541603631\n",
      "N estimators 210 F1 0.575301204819277\n",
      "N estimators 220 F1 0.575712143928036\n",
      "N estimators 230 F1 0.575301204819277\n",
      "N estimators 240 F1 0.5847076461769116\n",
      "N estimators 250 F1 0.5868263473053892\n",
      "N estimators 260 F1 0.5829596412556054\n",
      "N estimators 270 F1 0.5863095238095238\n",
      "N estimators 280 F1 0.5892857142857143\n",
      "N estimators 290 F1 0.588410104011887\n",
      "CPU times: user 29.6 s, sys: 58.1 ms, total: 29.7 s\n",
      "Wall time: 29.7 s\n"
     ]
    }
   ],
   "source": [
    "%%time\n",
    "\n",
    "for estimator_rfc in range(50, 300, 10):\n",
    "    model_rfc =  RandomForestClassifier(random_state=12345, n_estimators=estimator_rfc)\n",
    "    model_rfc.fit(features_train, target_train)\n",
    "    predicted_valid = model_rfc.predict(features_valid)\n",
    "    print('N estimators', estimator_rfc, 'F1', f1_score(target_valid, predicted_valid))"
   ]
  },
  {
   "cell_type": "markdown",
   "metadata": {},
   "source": [
    "Лучший результат был получен в районе 280-290 n_estimators, для более точного результата сделаем исследование с шагом 1."
   ]
  },
  {
   "cell_type": "code",
   "execution_count": 38,
   "metadata": {},
   "outputs": [
    {
     "name": "stdout",
     "output_type": "stream",
     "text": [
      "N estimators 280 F1 0.5892857142857143\n",
      "N estimators 281 F1 0.5892857142857143\n",
      "N estimators 282 F1 0.5871833084947838\n",
      "N estimators 283 F1 0.5913818722139673\n",
      "N estimators 284 F1 0.5892857142857143\n",
      "N estimators 285 F1 0.588410104011887\n",
      "N estimators 286 F1 0.588410104011887\n",
      "N estimators 287 F1 0.591715976331361\n",
      "N estimators 288 F1 0.5905044510385756\n",
      "N estimators 289 F1 0.5905044510385756\n",
      "CPU times: user 19.5 s, sys: 51.2 ms, total: 19.6 s\n",
      "Wall time: 19.6 s\n"
     ]
    }
   ],
   "source": [
    "%%time\n",
    "\n",
    "for estimator_rfc in range(280, 290, 1):\n",
    "    model_rfc =  RandomForestClassifier(random_state=12345, n_estimators=estimator_rfc)\n",
    "    model_rfc.fit(features_train, target_train)\n",
    "    predicted_valid = model_rfc.predict(features_valid)\n",
    "    print('N estimators', estimator_rfc, 'F1', f1_score(target_valid, predicted_valid))"
   ]
  },
  {
   "cell_type": "markdown",
   "metadata": {},
   "source": [
    "Как видим, лучший результат достигнут на глубине 287. F1 = 0.5917"
   ]
  },
  {
   "cell_type": "markdown",
   "metadata": {},
   "source": [
    "А теперь изучим, как работает Логистической регрессии. "
   ]
  },
  {
   "cell_type": "code",
   "execution_count": 26,
   "metadata": {},
   "outputs": [
    {
     "name": "stdout",
     "output_type": "stream",
     "text": [
      "F1 0.08385744234800838\n",
      "CPU times: user 43.2 ms, sys: 40.1 ms, total: 83.3 ms\n",
      "Wall time: 39 ms\n"
     ]
    }
   ],
   "source": [
    "%%time\n",
    "\n",
    "model_lr =  LogisticRegression(random_state=12345, solver='liblinear')\n",
    "model_lr.fit(features_train, target_train)\n",
    "predicted_valid = model_lr.predict(features_valid)\n",
    "print('F1', f1_score(target_valid, predicted_valid))"
   ]
  },
  {
   "cell_type": "markdown",
   "metadata": {},
   "source": [
    "Результаты низкие. Возможно precision или recall низкий и близок к 0."
   ]
  },
  {
   "cell_type": "markdown",
   "metadata": {},
   "source": [
    "Проведем оценку accuracy, precision, recall, а также F-метрику."
   ]
  },
  {
   "cell_type": "code",
   "execution_count": 39,
   "metadata": {},
   "outputs": [
    {
     "name": "stdout",
     "output_type": "stream",
     "text": [
      "Дерево решения\n",
      "Точность попадания по классам 0.8505\n",
      "Precision 0.7692307692307693\n",
      "Recall 0.40669856459330145\n",
      "F1 0.5320813771517998\n",
      "\n",
      "Случайный лес\n",
      "Точность попадания по классам 0.854\n",
      "Precision 0.7540322580645161\n",
      "Recall 0.4473684210526316\n",
      "F1 0.5615615615615616\n",
      "\n",
      "Логистическая регрессия\n",
      "Точность попадания по классам 0.7815\n",
      "Precision 0.3389830508474576\n",
      "Recall 0.04784688995215311\n",
      "F1 0.08385744234800838\n",
      "\n",
      "CPU times: user 412 ms, sys: 51.8 ms, total: 464 ms\n",
      "Wall time: 465 ms\n"
     ]
    }
   ],
   "source": [
    "%%time\n",
    "\n",
    "model_dtc_rate = DecisionTreeClassifier(random_state=12345, max_depth=7)\n",
    "model_dtc_rate.fit(features_train, target_train)\n",
    "predicted_valid = model_dtc_rate.predict(features_valid)\n",
    "print('Дерево решения')\n",
    "print('Точность попадания по классам', accuracy_score(target_valid, predicted_valid))\n",
    "print('Precision', precision_score(target_valid, predicted_valid))\n",
    "print('Recall', recall_score(target_valid, predicted_valid))\n",
    "print('F1', f1_score(target_valid, predicted_valid))\n",
    "print()\n",
    "\n",
    "model_rfc_rate = RandomForestClassifier(random_state=12345, n_estimators=53)\n",
    "model_rfc_rate.fit(features_train, target_train)\n",
    "predicted_valid = model_rfc_rate.predict(features_valid)\n",
    "print('Случайный лес')\n",
    "print('Точность попадания по классам', accuracy_score(target_valid, predicted_valid))\n",
    "print('Precision', precision_score(target_valid, predicted_valid))\n",
    "print('Recall', recall_score(target_valid, predicted_valid))\n",
    "print('F1', f1_score(target_valid, predicted_valid))\n",
    "print()\n",
    "\n",
    "model_lr_rate = LogisticRegression(random_state=12345, solver='liblinear')\n",
    "model_lr_rate.fit(features_train, target_train)\n",
    "predicted_valid = model_lr_rate.predict(features_valid)\n",
    "print('Логистическая регрессия')\n",
    "print('Точность попадания по классам', accuracy_score(target_valid, predicted_valid))\n",
    "print('Precision', precision_score(target_valid, predicted_valid))\n",
    "print('Recall', recall_score(target_valid, predicted_valid))\n",
    "print('F1', f1_score(target_valid, predicted_valid))\n",
    "print()"
   ]
  },
  {
   "cell_type": "markdown",
   "metadata": {},
   "source": [
    "Проведем построение ROC-кривой для каждой модели и выведем показатель AUC-ROC."
   ]
  },
  {
   "cell_type": "code",
   "execution_count": 28,
   "metadata": {},
   "outputs": [
    {
     "name": "stdout",
     "output_type": "stream",
     "text": [
      "AUC-ROC DecisionTreeClassifier 0.8152322177124227\n",
      "AUC-ROC RandomForestClassifier 0.8390883685480797\n",
      "AUC-ROC LogisticRegression 0.6727841324953574\n"
     ]
    },
    {
     "data": {
      "image/png": "[encoded data removed]",
      "text/plain": [
       "<Figure size 864x648 with 1 Axes>"
      ]
     },
     "metadata": {
      "needs_background": "light"
     },
     "output_type": "display_data"
    }
   ],
   "source": [
    "plt.figure(figsize=[12,9])\n",
    "\n",
    "plt.plot([0, 1], [0, 1], linestyle='--', label='RandomModel')\n",
    "\n",
    "\n",
    "model_roc_dtc = DecisionTreeClassifier(random_state=12345, max_depth=7)\n",
    "model_roc_dtc.fit(features_train, target_train)\n",
    "probabilities_valid = model_roc_dtc.predict_proba(features_valid)\n",
    "probabilities_one_valid = probabilities_valid[:, 1]\n",
    "fpr, tpr, thresholds = roc_curve(target_valid, probabilities_one_valid)\n",
    "auc_roc = roc_auc_score(target_valid, probabilities_one_valid)\n",
    "print('AUC-ROC DecisionTreeClassifier',auc_roc)\n",
    "plt.plot(fpr, tpr, label='DecisionTreeClassifier')\n",
    "\n",
    "model_roc_rfc = RandomForestClassifier(random_state=12345, n_estimators=53)\n",
    "model_roc_rfc.fit(features_train, target_train)\n",
    "probabilities_valid = model_roc_rfc.predict_proba(features_valid)\n",
    "probabilities_one_valid = probabilities_valid[:, 1]\n",
    "fpr, tpr, thresholds = roc_curve(target_valid, probabilities_one_valid)\n",
    "auc_roc = roc_auc_score(target_valid, probabilities_one_valid)\n",
    "print('AUC-ROC RandomForestClassifier',auc_roc)\n",
    "plt.plot(fpr, tpr, label='RandomForestClassifier')\n",
    "\n",
    "model_roc_lr = LogisticRegression(random_state=12345, solver='liblinear')\n",
    "model_roc_lr.fit(features_train, target_train)\n",
    "probabilities_valid = model_roc_lr.predict_proba(features_valid)\n",
    "probabilities_one_valid = probabilities_valid[:, 1]\n",
    "fpr, tpr, thresholds = roc_curve(target_valid, probabilities_one_valid)\n",
    "auc_roc = roc_auc_score(target_valid, probabilities_one_valid)\n",
    "print('AUC-ROC LogisticRegression', auc_roc)\n",
    "plt.plot(fpr, tpr, label='LogisticRegression')\n",
    "\n",
    "plt.xlim([0,1])\n",
    "plt.ylim([0,1])\n",
    "\n",
    "plt.xlabel(\"False Positive Rate\")\n",
    "plt.ylabel(\"True Positive Rate\")\n",
    "\n",
    "plt.legend(loc='lower right', fontsize='x-large')\n",
    "\n",
    "plt.title(\"ROC-кривая\")\n",
    "plt.show()"
   ]
  },
  {
   "cell_type": "markdown",
   "metadata": {},
   "source": [
    "По полученным реззультатам можно заметить, что метрика F1 и AUC-ROC лучшая на Случайном лесе. "
   ]
  },
  {
   "cell_type": "markdown",
   "metadata": {},
   "source": [
    "<b>Вывод</b>\n",
    "\n",
    "Рассматривая данные с дисбалансом тремя моделями можно сделать вывод, что саммая лучшая модель оказалась Случайный лес. При лучшем значении max_depth=287, мы имеем F1 меру = 0,5917 на тестовой (валидной) выборке."
   ]
  },
  {
   "cell_type": "markdown",
   "metadata": {},
   "source": [
    "## Борьба с дисбалансом"
   ]
  },
  {
   "cell_type": "markdown",
   "metadata": {},
   "source": [
    "Для борьбы с дисбалансом выполним сравнение моделей:\n",
    "- С взвешенными классами\n",
    "- С увеличенной выборкой\n",
    "- С уменьшенной выборкой\n"
   ]
  },
  {
   "cell_type": "markdown",
   "metadata": {},
   "source": [
    "Изучим возможности моделей по взвешиванию классов."
   ]
  },
  {
   "cell_type": "code",
   "execution_count": 40,
   "metadata": {},
   "outputs": [
    {
     "name": "stdout",
     "output_type": "stream",
     "text": [
      "Дерево решения\n",
      "Точность попадания по классам 0.7775\n",
      "Precision 0.47684391080617494\n",
      "Recall 0.6650717703349283\n",
      "F1 0.5554445554445555\n",
      "\n",
      "Случайный лес\n",
      "Точность попадания по классам 0.863\n",
      "Precision 0.7950819672131147\n",
      "Recall 0.46411483253588515\n",
      "F1 0.5861027190332326\n",
      "\n",
      "Логистическая регрессия\n",
      "Точность попадания по классам 0.6925\n",
      "Precision 0.37420178799489145\n",
      "Recall 0.7009569377990431\n",
      "F1 0.4879267277268943\n",
      "\n",
      "CPU times: user 444 ms, sys: 35.9 ms, total: 480 ms\n",
      "Wall time: 476 ms\n"
     ]
    }
   ],
   "source": [
    "%%time\n",
    "\n",
    "model_dtc_disb = DecisionTreeClassifier(random_state=12345, max_depth=7, class_weight='balanced')\n",
    "model_dtc_disb.fit(features_train, target_train)\n",
    "predicted_valid = model_dtc_disb.predict(features_valid)\n",
    "print('Дерево решения')\n",
    "print('Точность попадания по классам', accuracy_score(target_valid, predicted_valid))\n",
    "print('Precision', precision_score(target_valid, predicted_valid))\n",
    "print('Recall', recall_score(target_valid, predicted_valid))\n",
    "print('F1', f1_score(target_valid, predicted_valid))\n",
    "print()\n",
    "\n",
    "model_rfc_disb = RandomForestClassifier(random_state=12345, n_estimators=53, class_weight='balanced')\n",
    "model_rfc_disb.fit(features_train, target_train)\n",
    "predicted_valid = model_rfc_disb.predict(features_valid)\n",
    "print('Случайный лес')\n",
    "print('Точность попадания по классам', accuracy_score(target_valid, predicted_valid))\n",
    "print('Precision', precision_score(target_valid, predicted_valid))\n",
    "print('Recall', recall_score(target_valid, predicted_valid))\n",
    "print('F1', f1_score(target_valid, predicted_valid))\n",
    "print()\n",
    "\n",
    "model_lr_disb = LogisticRegression(random_state=12345, solver='liblinear', class_weight='balanced')\n",
    "model_lr_disb.fit(features_train, target_train)\n",
    "predicted_valid = model_lr_disb.predict(features_valid)\n",
    "print('Логистическая регрессия')\n",
    "print('Точность попадания по классам', accuracy_score(target_valid, predicted_valid))\n",
    "print('Precision', precision_score(target_valid, predicted_valid))\n",
    "print('Recall', recall_score(target_valid, predicted_valid))\n",
    "print('F1', f1_score(target_valid, predicted_valid))\n",
    "print()\n"
   ]
  },
  {
   "cell_type": "markdown",
   "metadata": {},
   "source": [
    "Как мы видим, F-мера упала у Дерева решения и Случайного леса, но выросла в разы у Логистической регресии."
   ]
  },
  {
   "cell_type": "markdown",
   "metadata": {},
   "source": [
    "Исследуем способ увеличения значений класса 1. Для этого используем функцию upsample"
   ]
  },
  {
   "cell_type": "code",
   "execution_count": 41,
   "metadata": {},
   "outputs": [
    {
     "name": "stdout",
     "output_type": "stream",
     "text": [
      "0    4804\n",
      "1    4784\n",
      "Name: Exited, dtype: int64\n"
     ]
    }
   ],
   "source": [
    "def upsample(features, target, repeat):\n",
    "    features_zeros = features[target == 0]\n",
    "    features_ones = features[target == 1]\n",
    "    target_zeros = target[target == 0]\n",
    "    target_ones = target[target == 1]\n",
    "\n",
    "    features_upsampled = pd.concat([features_zeros] + [features_ones] * repeat)\n",
    "    target_upsampled = pd.concat([target_zeros] + [target_ones] * repeat)\n",
    "    \n",
    "    features_upsampled, target_upsampled = shuffle(\n",
    "        features_upsampled, target_upsampled, random_state=12345)\n",
    "    \n",
    "    return features_upsampled, target_upsampled\n",
    "\n",
    "features_upsampled, target_upsampled = upsample(features_train, target_train, 4)\n",
    "\n",
    "print(target_upsampled.value_counts())"
   ]
  },
  {
   "cell_type": "code",
   "execution_count": 42,
   "metadata": {},
   "outputs": [
    {
     "name": "stdout",
     "output_type": "stream",
     "text": [
      "Дерево решения\n",
      "Точность попадания по классам 0.779\n",
      "Precision 0.4793103448275862\n",
      "Recall 0.6650717703349283\n",
      "F1 0.5571142284569138\n",
      "\n",
      "Случайный лес\n",
      "Точность попадания по классам 0.848\n",
      "Precision 0.6619318181818182\n",
      "Recall 0.5574162679425837\n",
      "F1 0.6051948051948052\n",
      "\n",
      "Логистическая регрессия\n",
      "Точность попадания по классам 0.6595\n",
      "Precision 0.3406060606060606\n",
      "Recall 0.6722488038277512\n",
      "F1 0.45213193885760256\n",
      "\n",
      "CPU times: user 633 ms, sys: 68.3 ms, total: 701 ms\n",
      "Wall time: 629 ms\n"
     ]
    }
   ],
   "source": [
    "%%time\n",
    "\n",
    "model_dtc_upsample = DecisionTreeClassifier(random_state=12345, max_depth=7)\n",
    "model_dtc_upsample.fit(features_upsampled, target_upsampled)\n",
    "predicted_valid = model_dtc_upsample.predict(features_valid)\n",
    "print('Дерево решения')\n",
    "print('Точность попадания по классам', accuracy_score(target_valid, predicted_valid))\n",
    "print('Precision', precision_score(target_valid, predicted_valid))\n",
    "print('Recall', recall_score(target_valid, predicted_valid))\n",
    "print('F1', f1_score(target_valid, predicted_valid))\n",
    "print()\n",
    "\n",
    "model_rfc_upsample = RandomForestClassifier(random_state=12345, n_estimators=53)\n",
    "model_rfc_upsample.fit(features_upsampled, target_upsampled)\n",
    "predicted_valid = model_rfc_upsample.predict(features_valid)\n",
    "print('Случайный лес')\n",
    "print('Точность попадания по классам', accuracy_score(target_valid, predicted_valid))\n",
    "print('Precision', precision_score(target_valid, predicted_valid))\n",
    "print('Recall', recall_score(target_valid, predicted_valid))\n",
    "print('F1', f1_score(target_valid, predicted_valid))\n",
    "print()\n",
    "\n",
    "modeL_lr_upsample = LogisticRegression(random_state=12345, solver='liblinear')\n",
    "modeL_lr_upsample.fit(features_upsampled, target_upsampled)\n",
    "predicted_valid = modeL_lr_upsample.predict(features_valid)\n",
    "print('Логистическая регрессия')\n",
    "print('Точность попадания по классам', accuracy_score(target_valid, predicted_valid))\n",
    "print('Precision', precision_score(target_valid, predicted_valid))\n",
    "print('Recall', recall_score(target_valid, predicted_valid))\n",
    "print('F1', f1_score(target_valid, predicted_valid))\n",
    "print()"
   ]
  },
  {
   "cell_type": "markdown",
   "metadata": {},
   "source": [
    "F-мера стала лучше у Случайного леса, Логистической регресии по сравнению с дисбалансными данными. \n",
    "Лучшей моделью по F-мера стал Случайный лес с тренировочными данными, где увеличен класс 1."
   ]
  },
  {
   "cell_type": "markdown",
   "metadata": {},
   "source": [
    "Исследуем способ уменьшения значений класса 0, для этого используем функцию downsample."
   ]
  },
  {
   "cell_type": "code",
   "execution_count": 43,
   "metadata": {},
   "outputs": [
    {
     "name": "stdout",
     "output_type": "stream",
     "text": [
      "0    1201\n",
      "1    1196\n",
      "Name: Exited, dtype: int64\n"
     ]
    }
   ],
   "source": [
    "def downsample(features, target, fraction):\n",
    "    features_zeros = features[target == 0]\n",
    "    features_ones = features[target == 1]\n",
    "    target_zeros = target[target == 0]\n",
    "    target_ones = target[target == 1]\n",
    "\n",
    "    features_downsampled = pd.concat(\n",
    "        [features_zeros.sample(frac=fraction, random_state=12345)] + [features_ones])\n",
    "    target_downsampled = pd.concat(\n",
    "        [target_zeros.sample(frac=fraction, random_state=12345)] + [target_ones])\n",
    "    \n",
    "    features_downsampled, target_downsampled = shuffle(\n",
    "        features_downsampled, target_downsampled, random_state=12345)\n",
    "    \n",
    "    return features_downsampled, target_downsampled\n",
    "\n",
    "features_downsampled, target_downsampled = downsample(features_train, target_train, 0.25)\n",
    "\n",
    "print(target_downsampled.value_counts())"
   ]
  },
  {
   "cell_type": "code",
   "execution_count": 44,
   "metadata": {},
   "outputs": [
    {
     "name": "stdout",
     "output_type": "stream",
     "text": [
      "Дерево решения\n",
      "Точность попадания по классам 0.7365\n",
      "Precision 0.4222539229671897\n",
      "Recall 0.7081339712918661\n",
      "F1 0.5290437890974085\n",
      "\n",
      "Случайный лес\n",
      "Точность попадания по классам 0.77\n",
      "Precision 0.46846846846846846\n",
      "Recall 0.7464114832535885\n",
      "F1 0.5756457564575646\n",
      "\n",
      "Логистическая регрессия\n",
      "Точность попадания по классам 0.654\n",
      "Precision 0.33729216152019004\n",
      "Recall 0.6794258373205742\n",
      "F1 0.4507936507936508\n",
      "\n",
      "CPU times: user 247 ms, sys: 40 ms, total: 287 ms\n",
      "Wall time: 241 ms\n"
     ]
    }
   ],
   "source": [
    "%%time\n",
    "\n",
    "model_dtc_downsample = DecisionTreeClassifier(random_state=12345, max_depth=7)\n",
    "model_dtc_downsample.fit(features_downsampled, target_downsampled)\n",
    "predicted_valid = model_dtc_downsample.predict(features_valid)\n",
    "print('Дерево решения')\n",
    "print('Точность попадания по классам', accuracy_score(target_valid, predicted_valid))\n",
    "print('Precision', precision_score(target_valid, predicted_valid))\n",
    "print('Recall', recall_score(target_valid, predicted_valid))\n",
    "print('F1', f1_score(target_valid, predicted_valid))\n",
    "print()\n",
    "\n",
    "model_rfc_downsample = RandomForestClassifier(random_state=12345, n_estimators=53)\n",
    "model_rfc_downsample.fit(features_downsampled, target_downsampled)\n",
    "predicted_valid = model_rfc_downsample.predict(features_valid)\n",
    "print('Случайный лес')\n",
    "print('Точность попадания по классам', accuracy_score(target_valid, predicted_valid))\n",
    "print('Precision', precision_score(target_valid, predicted_valid))\n",
    "print('Recall', recall_score(target_valid, predicted_valid))\n",
    "print('F1', f1_score(target_valid, predicted_valid))\n",
    "print()\n",
    "\n",
    "model_lr_downsample = LogisticRegression(random_state=12345, solver='liblinear')\n",
    "model_lr_downsample.fit(features_downsampled, target_downsampled)\n",
    "predicted_valid = model_lr_downsample.predict(features_valid)\n",
    "print('Логистическая регрессия')\n",
    "print('Точность попадания по классам', accuracy_score(target_valid, predicted_valid))\n",
    "print('Precision', precision_score(target_valid, predicted_valid))\n",
    "print('Recall', recall_score(target_valid, predicted_valid))\n",
    "print('F1', f1_score(target_valid, predicted_valid))\n",
    "print()"
   ]
  },
  {
   "cell_type": "markdown",
   "metadata": {},
   "source": [
    "Показатели Логистической регрессии выросли. Дерево решения и Случайный лес показали себя хуже."
   ]
  },
  {
   "cell_type": "markdown",
   "metadata": {},
   "source": [
    "Выведем ROC-кривую и AUC-ROC для посленнего измененного баланса."
   ]
  },
  {
   "cell_type": "code",
   "execution_count": 45,
   "metadata": {},
   "outputs": [
    {
     "name": "stdout",
     "output_type": "stream",
     "text": [
      "AUC-ROC DecisionTreeClassifier 0.7945434281601026\n",
      "AUC-ROC RandomForestClassifier 0.8312724187782409\n",
      "AUC-ROC LogisticRegression 0.7195029004530635\n"
     ]
    },
    {
     "data": {
      "image/png": "[encoded data removed]",
      "text/plain": [
       "<Figure size 864x648 with 1 Axes>"
      ]
     },
     "metadata": {
      "needs_background": "light"
     },
     "output_type": "display_data"
    }
   ],
   "source": [
    "plt.figure(figsize=[12,9])\n",
    "\n",
    "plt.plot([0, 1], [0, 1], linestyle='--', label='RandomModel')\n",
    "\n",
    "\n",
    "model_dtc_roc_new = DecisionTreeClassifier(random_state=12345, max_depth=7)\n",
    "model_dtc_roc_new.fit(features_upsampled, target_upsampled)\n",
    "probabilities_valid = model_dtc_roc_new.predict_proba(features_valid)\n",
    "probabilities_one_valid = probabilities_valid[:, 1]\n",
    "fpr, tpr, thresholds = roc_curve(target_valid, probabilities_one_valid)\n",
    "auc_roc = roc_auc_score(target_valid, probabilities_one_valid)\n",
    "print('AUC-ROC DecisionTreeClassifier',auc_roc)\n",
    "plt.plot(fpr, tpr, label='DecisionTreeClassifier')\n",
    "\n",
    "model_rfc_roc_new = RandomForestClassifier(random_state=12345, n_estimators=53)\n",
    "model_rfc_roc_new.fit(features_upsampled, target_upsampled)\n",
    "probabilities_valid = model_rfc_roc_new.predict_proba(features_valid)\n",
    "probabilities_one_valid = probabilities_valid[:, 1]\n",
    "fpr, tpr, thresholds = roc_curve(target_valid, probabilities_one_valid)\n",
    "auc_roc = roc_auc_score(target_valid, probabilities_one_valid)\n",
    "print('AUC-ROC RandomForestClassifier',auc_roc)\n",
    "plt.plot(fpr, tpr, label='RandomForestClassifier')\n",
    "\n",
    "model_lr_roc_new = LogisticRegression(random_state=12345, solver='liblinear')\n",
    "model_lr_roc_new.fit(features_upsampled, target_upsampled)\n",
    "probabilities_valid = model_lr_roc_new.predict_proba(features_valid)\n",
    "probabilities_one_valid = probabilities_valid[:, 1]\n",
    "fpr, tpr, thresholds = roc_curve(target_valid, probabilities_one_valid)\n",
    "auc_roc = roc_auc_score(target_valid, probabilities_one_valid)\n",
    "print('AUC-ROC LogisticRegression',auc_roc)\n",
    "plt.plot(fpr, tpr, label='LogisticRegression')\n",
    "\n",
    "plt.xlim([0,1])\n",
    "plt.ylim([0,1])\n",
    "\n",
    "plt.xlabel(\"False Positive Rate\")\n",
    "plt.ylabel(\"True Positive Rate\")\n",
    "\n",
    "plt.legend(loc='lower right', fontsize='x-large')\n",
    "\n",
    "plt.title(\"ROC-кривая\")\n",
    "plt.show()"
   ]
  },
  {
   "cell_type": "markdown",
   "metadata": {},
   "source": [
    "Дисбаланс повлиял на модели в худшую сторону. Лучшим решением стало увеличение классов 1 в тренировочной выборке.\n",
    "\n",
    "Выравние классов в выборке привело к резкому росту параметра recall и небольшому понижению percison. \n",
    "\n",
    "Но в целом F-мера выросла."
   ]
  },
  {
   "cell_type": "markdown",
   "metadata": {},
   "source": [
    "## Тестирование модели"
   ]
  },
  {
   "cell_type": "markdown",
   "metadata": {},
   "source": [
    "К тестовой выборке примем модель Случайного леса. Исследуем гиперпараметры и улучшим F-меру модели."
   ]
  },
  {
   "cell_type": "code",
   "execution_count": 48,
   "metadata": {
    "scrolled": true
   },
   "outputs": [
    {
     "name": "stdout",
     "output_type": "stream",
     "text": [
      "N estimators 10 F1 0.5767690253671564\n",
      "N estimators 20 F1 0.6058201058201058\n",
      "N estimators 30 F1 0.5949535192563081\n",
      "N estimators 40 F1 0.6073298429319371\n",
      "N estimators 50 F1 0.6065359477124183\n",
      "N estimators 60 F1 0.6062992125984252\n",
      "N estimators 70 F1 0.6115485564304461\n",
      "N estimators 80 F1 0.6089238845144357\n",
      "N estimators 90 F1 0.6129458388375165\n",
      "N estimators 100 F1 0.6129458388375165\n",
      "N estimators 110 F1 0.6068601583113458\n",
      "N estimators 120 F1 0.6097240473061761\n",
      "N estimators 130 F1 0.6055045871559633\n",
      "N estimators 140 F1 0.6111111111111113\n",
      "N estimators 150 F1 0.6052631578947368\n",
      "N estimators 160 F1 0.6105263157894737\n",
      "N estimators 170 F1 0.61133069828722\n",
      "N estimators 180 F1 0.613157894736842\n",
      "N estimators 190 F1 0.6083550913838119\n",
      "N estimators 200 F1 0.6052631578947368\n",
      "N estimators 210 F1 0.5989445910290238\n",
      "N estimators 220 F1 0.5992115637319316\n",
      "N estimators 230 F1 0.6010498687664041\n",
      "N estimators 240 F1 0.6020942408376964\n",
      "N estimators 250 F1 0.6005221932114881\n",
      "N estimators 260 F1 0.5994764397905759\n",
      "N estimators 270 F1 0.6013071895424836\n",
      "N estimators 280 F1 0.6028833551769331\n",
      "N estimators 290 F1 0.6036745406824147\n",
      "N estimators 300 F1 0.6020942408376964\n",
      "N estimators 310 F1 0.6028833551769331\n",
      "N estimators 320 F1 0.6036745406824147\n",
      "N estimators 330 F1 0.6044678055190538\n",
      "N estimators 340 F1 0.6034255599472992\n",
      "N estimators 350 F1 0.6034255599472992\n",
      "N estimators 360 F1 0.6042216358839051\n",
      "N estimators 370 F1 0.6005291005291005\n",
      "N estimators 380 F1 0.6050198150594451\n",
      "N estimators 390 F1 0.6015831134564644\n",
      "N estimators 400 F1 0.6060606060606061\n",
      "N estimators 410 F1 0.6058201058201058\n",
      "N estimators 420 F1 0.6031746031746033\n",
      "N estimators 430 F1 0.6005291005291005\n",
      "N estimators 440 F1 0.6007905138339921\n",
      "N estimators 450 F1 0.6023778071334214\n",
      "N estimators 460 F1 0.6023778071334214\n",
      "N estimators 470 F1 0.6039735099337747\n",
      "N estimators 480 F1 0.6058201058201058\n",
      "N estimators 490 F1 0.6039735099337747\n",
      "CPU times: user 1min 53s, sys: 671 ms, total: 1min 54s\n",
      "Wall time: 1min 54s\n"
     ]
    }
   ],
   "source": [
    "%%time\n",
    "\n",
    "for estimator_rfc_train in range(10, 500, 10):\n",
    "    model_rfc_train =  RandomForestClassifier(random_state=12345, n_estimators=estimator_rfc_train)\n",
    "    model_rfc_train.fit(features_upsampled, target_upsampled)\n",
    "    predicted_valid = model_rfc_train.predict(features_valid)\n",
    "    print('N estimators', estimator_rfc_train, 'F1', f1_score(target_valid, predicted_valid))"
   ]
  },
  {
   "cell_type": "markdown",
   "metadata": {},
   "source": [
    "Лучший результат лежит в диапазоне 180-190, изучим подробнее."
   ]
  },
  {
   "cell_type": "code",
   "execution_count": 50,
   "metadata": {},
   "outputs": [
    {
     "name": "stdout",
     "output_type": "stream",
     "text": [
      "N estimators 180 F1 0.613157894736842\n",
      "N estimators 181 F1 0.6091503267973857\n",
      "N estimators 182 F1 0.6097240473061761\n",
      "N estimators 183 F1 0.6083550913838119\n",
      "N estimators 184 F1 0.6099476439790575\n",
      "N estimators 185 F1 0.6075619295958278\n",
      "N estimators 186 F1 0.6073298429319371\n",
      "N estimators 187 F1 0.6075619295958278\n",
      "N estimators 188 F1 0.6083550913838119\n",
      "N estimators 189 F1 0.6075619295958278\n",
      "CPU times: user 16.6 s, sys: 71.9 ms, total: 16.7 s\n",
      "Wall time: 16.7 s\n"
     ]
    }
   ],
   "source": [
    "%%time\n",
    "\n",
    "for estimator_rfc_train in range(180, 190):\n",
    "    model_rfc_train =  RandomForestClassifier(random_state=12345, n_estimators=estimator_rfc_train)\n",
    "    model_rfc_train.fit(features_upsampled, target_upsampled)\n",
    "    predicted_valid = model_rfc_train.predict(features_valid)\n",
    "    print('N estimators', estimator_rfc_train, 'F1', f1_score(target_valid, predicted_valid))"
   ]
  },
  {
   "cell_type": "markdown",
   "metadata": {},
   "source": [
    "Лучший F1 = 0.6131 при n_estimators = 180"
   ]
  },
  {
   "cell_type": "code",
   "execution_count": 51,
   "metadata": {},
   "outputs": [
    {
     "name": "stdout",
     "output_type": "stream",
     "text": [
      "F1 0.6086956521739131\n",
      "CPU times: user 1.95 s, sys: 16 ms, total: 1.97 s\n",
      "Wall time: 1.97 s\n"
     ]
    }
   ],
   "source": [
    "%%time\n",
    "\n",
    "model_rfc_train =  RandomForestClassifier(random_state=12345, n_estimators=180, criterion='entropy')\n",
    "model_rfc_train.fit(features_upsampled, target_upsampled)\n",
    "predicted_valid = model_rfc_train.predict(features_valid)\n",
    "print('F1', f1_score(target_valid, predicted_valid))"
   ]
  },
  {
   "cell_type": "markdown",
   "metadata": {},
   "source": [
    "Изменим гиперпараметр min_samples_split."
   ]
  },
  {
   "cell_type": "code",
   "execution_count": 53,
   "metadata": {},
   "outputs": [
    {
     "name": "stdout",
     "output_type": "stream",
     "text": [
      "Samples_split 0.1 F1 0.5823970037453183\n",
      "Samples_split 0.2 F1 0.5779816513761468\n",
      "Samples_split 0.3 F1 0.5448154657293498\n",
      "Samples_split 0.4 F1 0.5550500454959053\n",
      "Samples_split 0.5 F1 0.5690140845070423\n",
      "Samples_split 0.6 F1 0.5439252336448598\n",
      "Samples_split 0.7 F1 0.0\n",
      "Samples_split 0.8 F1 0.0\n",
      "Samples_split 0.9 F1 0.0\n",
      "Samples_split 1.0 F1 0.0\n",
      "Samples_split 2 F1 0.6075619295958278\n",
      "Samples_split 3 F1 0.6108897742363878\n",
      "Samples_split 4 F1 0.6084656084656085\n",
      "Samples_split 5 F1 0.6121919584954605\n",
      "Samples_split 6 F1 0.6235446313065977\n",
      "Samples_split 7 F1 0.617906683480454\n",
      "Samples_split 8 F1 0.617906683480454\n",
      "Samples_split 9 F1 0.6189889025893959\n",
      "Samples_split 10 F1 0.6167076167076168\n",
      "CPU times: user 20.8 s, sys: 148 ms, total: 21 s\n",
      "Wall time: 21 s\n"
     ]
    }
   ],
   "source": [
    "%%time\n",
    "\n",
    "for samples_split in range(1, 11):\n",
    "    model_rfc_ss =  RandomForestClassifier(random_state=12345, n_estimators=estimator_rfc_train, min_samples_split=samples_split/10)\n",
    "    model_rfc_ss.fit(features_upsampled, target_upsampled)\n",
    "    predicted_valid = model_rfc_ss.predict(features_valid)\n",
    "    print('Samples_split', samples_split/10,'F1', f1_score(target_valid, predicted_valid))\n",
    "    \n",
    "for samples_split in range(2, 11):\n",
    "    model_rfc_ss =  RandomForestClassifier(random_state=12345, n_estimators=estimator_rfc_train, min_samples_split=samples_split)\n",
    "    model_rfc_ss.fit(features_upsampled, target_upsampled)\n",
    "    predicted_valid = model_rfc_ss.predict(features_valid)\n",
    "    print('Samples_split', samples_split,'F1', f1_score(target_valid, predicted_valid))"
   ]
  },
  {
   "cell_type": "markdown",
   "metadata": {},
   "source": [
    "Лучший F1 получен при min_samples_split=6."
   ]
  },
  {
   "cell_type": "markdown",
   "metadata": {},
   "source": [
    "Изменим гиперпараметр min_samples_leaf."
   ]
  },
  {
   "cell_type": "code",
   "execution_count": 55,
   "metadata": {},
   "outputs": [
    {
     "name": "stdout",
     "output_type": "stream",
     "text": [
      "Samples_leaf 0.1 F1 0.5446182152713892\n",
      "Samples_leaf 0.2 F1 0.519962859795729\n",
      "Samples_leaf 0.3 F1 0.4879668049792531\n",
      "Samples_leaf 0.4 F1 0.0\n",
      "Samples_leaf 0.5 F1 0.0\n",
      "Samples_leaf 1 F1 0.6121919584954605\n",
      "Samples_leaf 2 F1 0.6153846153846153\n",
      "Samples_leaf 3 F1 0.6261904761904763\n",
      "Samples_leaf 4 F1 0.6287703016241298\n",
      "Samples_leaf 5 F1 0.6258503401360545\n",
      "Samples_leaf 6 F1 0.6312292358803987\n",
      "Samples_leaf 7 F1 0.6211453744493393\n",
      "Samples_leaf 8 F1 0.6163793103448275\n",
      "Samples_leaf 9 F1 0.6216505894962486\n",
      "Samples_leaf 10 F1 0.6283280085197017\n",
      "CPU times: user 18.4 s, sys: 63.8 ms, total: 18.5 s\n",
      "Wall time: 18.5 s\n"
     ]
    }
   ],
   "source": [
    "%%time\n",
    "\n",
    "for samples_leaf in range(1, 6):\n",
    "    model_rfc_sl =  RandomForestClassifier(random_state=12345, n_estimators=estimator_rfc_train, min_samples_split=5, \n",
    "                                    min_samples_leaf= samples_leaf/10)\n",
    "    model_rfc_sl.fit(features_upsampled, target_upsampled)\n",
    "    predicted_valid = model_rfc_sl.predict(features_valid)\n",
    "    print('Samples_leaf', samples_leaf/10,'F1', f1_score(target_valid, predicted_valid))\n",
    "    \n",
    "for samples_leaf in range(1, 11):\n",
    "    model_rfc_sl =  RandomForestClassifier(random_state=12345, n_estimators=estimator_rfc_train, min_samples_split=5,\n",
    "                                   min_samples_leaf= samples_leaf)\n",
    "    model_rfc_sl.fit(features_upsampled, target_upsampled)\n",
    "    predicted_valid = model_rfc_sl.predict(features_valid)\n",
    "    print('Samples_leaf', samples_leaf,'F1', f1_score(target_valid, predicted_valid))"
   ]
  },
  {
   "cell_type": "markdown",
   "metadata": {},
   "source": [
    "Лучший показатель min_samples_leaf = 6."
   ]
  },
  {
   "cell_type": "markdown",
   "metadata": {},
   "source": [
    "Проверим на тестовой выборке четыре модели: на дисбалансных данных и сбалансированных: со взвешенными классами, усечением 0 класса и расширением класса 1."
   ]
  },
  {
   "cell_type": "code",
   "execution_count": 56,
   "metadata": {},
   "outputs": [
    {
     "name": "stdout",
     "output_type": "stream",
     "text": [
      "Случайный лес - дисбаланс классов\n",
      "Точность попадания по классам 0.8425\n",
      "Precision 0.7454545454545455\n",
      "Recall 0.3877068557919622\n",
      "F1 0.5101088646967341\n",
      "\n",
      "Случайный лес - взвешенные классы\n",
      "Точность попадания по классам 0.8355\n",
      "Precision 0.6063348416289592\n",
      "Recall 0.6335697399527187\n",
      "F1 0.6196531791907514\n",
      "\n",
      "Случайный лес - уменьшенное количество классов 0\n",
      "Точность попадания по классам 0.778\n",
      "Precision 0.48406676783004554\n",
      "Recall 0.7541371158392435\n",
      "F1 0.589648798521257\n",
      "\n",
      "Случайный лес - увеличенное количество классов 1\n",
      "Точность попадания по классам 0.826\n",
      "Precision 0.5786163522012578\n",
      "Recall 0.6524822695035462\n",
      "F1 0.6133333333333334\n",
      "\n"
     ]
    }
   ],
   "source": [
    "model_rfc_test = RandomForestClassifier(random_state=12345, n_estimators=estimator_rfc_train, min_samples_split=6,\n",
    "                                   min_samples_leaf=6)\n",
    "model_rfc_test.fit(features_train, target_train)\n",
    "predicted_test = model_rfc_test.predict(features_test)\n",
    "print('Случайный лес - дисбаланс классов')\n",
    "print('Точность попадания по классам', accuracy_score(target_test, predicted_test))\n",
    "print('Precision', precision_score(target_test, predicted_test))\n",
    "print('Recall', recall_score(target_test, predicted_test))\n",
    "print('F1', f1_score(target_test, predicted_test))\n",
    "print()\n",
    "\n",
    "model_rfc_test = RandomForestClassifier(random_state=12345, n_estimators=estimator_rfc_train, min_samples_split=6,\n",
    "                                   min_samples_leaf=6, class_weight='balanced')\n",
    "model_rfc_test.fit(features_train, target_train)\n",
    "predicted_test = model_rfc_test.predict(features_test)\n",
    "print('Случайный лес - взвешенные классы')\n",
    "print('Точность попадания по классам', accuracy_score(target_test, predicted_test))\n",
    "print('Precision', precision_score(target_test, predicted_test))\n",
    "print('Recall', recall_score(target_test, predicted_test))\n",
    "print('F1', f1_score(target_test, predicted_test))\n",
    "print()\n",
    "\n",
    "model_rfc_test = RandomForestClassifier(random_state=12345, n_estimators=estimator_rfc_train, min_samples_split=6,\n",
    "                                   min_samples_leaf=6)\n",
    "model_rfc_test.fit(features_downsampled, target_downsampled)\n",
    "predicted_test = model_rfc_test.predict(features_test)\n",
    "print('Случайный лес - уменьшенное количество классов 0')\n",
    "print('Точность попадания по классам', accuracy_score(target_test, predicted_test))\n",
    "print('Precision', precision_score(target_test, predicted_test))\n",
    "print('Recall', recall_score(target_test, predicted_test))\n",
    "print('F1', f1_score(target_test, predicted_test))\n",
    "print()\n",
    "\n",
    "model_rfc_test = RandomForestClassifier(random_state=12345, n_estimators=estimator_rfc_train, min_samples_split=6,\n",
    "                                   min_samples_leaf=6)\n",
    "model_rfc_test.fit(features_upsampled, target_upsampled)\n",
    "predicted_test = model_rfc_test.predict(features_test)\n",
    "print('Случайный лес - увеличенное количество классов 1')\n",
    "print('Точность попадания по классам', accuracy_score(target_test, predicted_test))\n",
    "print('Precision', precision_score(target_test, predicted_test))\n",
    "print('Recall', recall_score(target_test, predicted_test))\n",
    "print('F1', f1_score(target_test, predicted_test))\n",
    "print()"
   ]
  },
  {
   "cell_type": "code",
   "execution_count": 58,
   "metadata": {},
   "outputs": [
    {
     "name": "stdout",
     "output_type": "stream",
     "text": [
      "Случайный лес - дисбаланс классов\n",
      "Точность попадания по классам 0.8425\n",
      "Precision 0.7454545454545455\n",
      "Recall 0.3877068557919622\n",
      "F1 0.5101088646967341\n",
      "\n",
      "Случайный лес - взвешенные классы\n",
      "Точность попадания по классам 0.8355\n",
      "Precision 0.6063348416289592\n",
      "Recall 0.6335697399527187\n",
      "F1 0.6196531791907514\n",
      "\n",
      "Случайный лес - уменьшенное количество классов 0\n",
      "Точность попадания по классам 0.778\n",
      "Precision 0.48406676783004554\n",
      "Recall 0.7541371158392435\n",
      "F1 0.589648798521257\n",
      "\n",
      "Случайный лес - увеличенное количество классов 1\n",
      "Точность попадания по классам 0.826\n",
      "Precision 0.5786163522012578\n",
      "Recall 0.6524822695035462\n",
      "F1 0.6133333333333334\n",
      "\n"
     ]
    }
   ],
   "source": [
    "model_rfc_test = RandomForestClassifier(random_state=12345, n_estimators=estimator_rfc_train, min_samples_split=6,\n",
    "                                   min_samples_leaf=6)\n",
    "model_rfc_test.fit(features_train, target_train)\n",
    "predicted_test = model_rfc_test.predict(features_test)\n",
    "print('Случайный лес - дисбаланс классов')\n",
    "print('Точность попадания по классам', accuracy_score(target_test, predicted_test))\n",
    "print('Precision', precision_score(target_test, predicted_test))\n",
    "print('Recall', recall_score(target_test, predicted_test))\n",
    "print('F1', f1_score(target_test, predicted_test))\n",
    "print()\n",
    "\n",
    "model_rfc_test = RandomForestClassifier(random_state=12345, n_estimators=estimator_rfc_train, min_samples_split=6,\n",
    "                                   min_samples_leaf=6, class_weight='balanced')\n",
    "model_rfc_test.fit(features_train, target_train)\n",
    "predicted_test = model_rfc_test.predict(features_test)\n",
    "print('Случайный лес - взвешенные классы')\n",
    "print('Точность попадания по классам', accuracy_score(target_test, predicted_test))\n",
    "print('Precision', precision_score(target_test, predicted_test))\n",
    "print('Recall', recall_score(target_test, predicted_test))\n",
    "print('F1', f1_score(target_test, predicted_test))\n",
    "print()\n",
    "\n",
    "model_rfc_test = RandomForestClassifier(random_state=12345, n_estimators=estimator_rfc_train, min_samples_split=6,\n",
    "                                   min_samples_leaf=6)\n",
    "model_rfc_test.fit(features_downsampled, target_downsampled)\n",
    "predicted_test = model_rfc_test.predict(features_test)\n",
    "print('Случайный лес - уменьшенное количество классов 0')\n",
    "print('Точность попадания по классам', accuracy_score(target_test, predicted_test))\n",
    "print('Precision', precision_score(target_test, predicted_test))\n",
    "print('Recall', recall_score(target_test, predicted_test))\n",
    "print('F1', f1_score(target_test, predicted_test))\n",
    "print()\n",
    "\n",
    "model_rfc_test = RandomForestClassifier(random_state=12345, n_estimators=estimator_rfc_train, min_samples_split=6,\n",
    "                                   min_samples_leaf=6)\n",
    "model_rfc_test.fit(features_upsampled, target_upsampled)\n",
    "predicted_test = model_rfc_test.predict(features_test)\n",
    "print('Случайный лес - увеличенное количество классов 1')\n",
    "print('Точность попадания по классам', accuracy_score(target_test, predicted_test))\n",
    "print('Precision', precision_score(target_test, predicted_test))\n",
    "print('Recall', recall_score(target_test, predicted_test))\n",
    "print('F1', f1_score(target_test, predicted_test))\n",
    "print()"
   ]
  },
  {
   "cell_type": "code",
   "execution_count": 31,
   "metadata": {},
   "outputs": [
    {
     "name": "stdout",
     "output_type": "stream",
     "text": [
      "AUC-ROC RandomForestClassifier - disbalanced 0.8611751972428723\n",
      "AUC-ROC RandomForestClassifier - balanced by class weight 0.8588755919534803\n",
      "AUC-ROC RandomForestClassifier - balanced by reduce 0 class 0.8506830607236712\n",
      "AUC-ROC RandomForestClassifier - balanced by grow 1 class 0.8578517129361042\n"
     ]
    },
    {
     "data": {
      "image/png": "[encoded data removed]",
      "text/plain": [
       "<Figure size 864x648 with 1 Axes>"
      ]
     },
     "metadata": {
      "needs_background": "light"
     },
     "output_type": "display_data"
    }
   ],
   "source": [
    "plt.figure(figsize=[12,9])\n",
    "\n",
    "plt.plot([0, 1], [0, 1], linestyle='--', label='RandomModel')\n",
    "\n",
    "\n",
    "model = RandomForestClassifier(random_state=12345, n_estimators=estimator, min_samples_split=5,\n",
    "                                   min_samples_leaf=7)\n",
    "model.fit(features_train, target_train)\n",
    "predicted_test = model.predict(features_test)\n",
    "probabilities_test = model.predict_proba(features_test)\n",
    "probabilities_one_test = probabilities_test[:, 1]\n",
    "fpr, tpr, thresholds = roc_curve(target_test, probabilities_one_test)\n",
    "auc_roc = roc_auc_score(target_test, probabilities_one_test)\n",
    "print('AUC-ROC RandomForestClassifier - disbalanced',auc_roc)\n",
    "plt.plot(fpr, tpr, label='RandomForestClassifier - disbalanced')\n",
    "\n",
    "model = RandomForestClassifier(random_state=12345, n_estimators=estimator, min_samples_split=5,\n",
    "                                   min_samples_leaf=7, class_weight='balanced')\n",
    "model.fit(features_train, target_train)\n",
    "predicted_test = model.predict(features_test)\n",
    "probabilities_test = model.predict_proba(features_test)\n",
    "probabilities_one_test = probabilities_test[:, 1]\n",
    "fpr, tpr, thresholds = roc_curve(target_test, probabilities_one_test)\n",
    "auc_roc = roc_auc_score(target_test, probabilities_one_test)\n",
    "print('AUC-ROC RandomForestClassifier - balanced by class weight',auc_roc)\n",
    "plt.plot(fpr, tpr, label='RandomForestClassifier - balanced by class weight')\n",
    "\n",
    "model = RandomForestClassifier(random_state=12345, n_estimators=estimator, min_samples_split=5,\n",
    "                                   min_samples_leaf=7)\n",
    "model.fit(features_downsampled, target_downsampled)\n",
    "predicted_test = model.predict(features_test)\n",
    "probabilities_test = model.predict_proba(features_test)\n",
    "probabilities_one_test = probabilities_test[:, 1]\n",
    "fpr, tpr, thresholds = roc_curve(target_test, probabilities_one_test)\n",
    "auc_roc = roc_auc_score(target_test, probabilities_one_test)\n",
    "print('AUC-ROC RandomForestClassifier - balanced by reduce 0 class',auc_roc)\n",
    "plt.plot(fpr, tpr, label='RandomForestClassifier - balanced by reduce 0 class')\n",
    "\n",
    "model = RandomForestClassifier(random_state=12345, n_estimators=estimator, min_samples_split=5,\n",
    "                                   min_samples_leaf=7)\n",
    "model.fit(features_upsampled, target_upsampled)\n",
    "predicted_test = model.predict(features_test)\n",
    "probabilities_test = model.predict_proba(features_test)\n",
    "probabilities_one_test = probabilities_test[:, 1]\n",
    "fpr, tpr, thresholds = roc_curve(target_test, probabilities_one_test)\n",
    "auc_roc = roc_auc_score(target_test, probabilities_one_test)\n",
    "print('AUC-ROC RandomForestClassifier - balanced by grow 1 class',auc_roc)\n",
    "plt.plot(fpr, tpr, label='RandomForestClassifier - balanced')\n",
    "\n",
    "plt.xlim([0,1])\n",
    "plt.ylim([0,1])\n",
    "\n",
    "plt.xlabel(\"False Positive Rate\")\n",
    "plt.ylabel(\"True Positive Rate\")\n",
    "\n",
    "plt.legend(loc='lower right', fontsize='x-large')\n",
    "\n",
    "plt.title(\"ROC-кривая\")\n",
    "plt.show()"
   ]
  },
  {
   "cell_type": "markdown",
   "metadata": {},
   "source": [
    "<b>Вывод:</b>\n",
    "2 из 4 моделей достигли минимума F-меры на тестовых данных: модель случайного леса со взвешенными весами классов и модель с увеличенным количеством класса 1.\n",
    "\n",
    "Видно, что взвешивание классов дает результат лучше для данного набора данных. Percision падает, recall растет, и в целом F-мера имеет небольшой прирост. Баланс классов повышает охват необходимых данных.\n",
    "\n",
    "Оценивая адеватность модели можно заметить, что AUC-ROC дисбалансной модели и модели с весами примерно одинаково предсказывают вероятность ухода клиента.\n",
    "\n",
    "В результате исследования была получена модель с лучшими показателями как по F1-мере, так и по AUC-ROC - Случайный лес: взвешенные классы."
   ]
  },
  {
   "cell_type": "markdown",
   "metadata": {},
   "source": [
    "<b>Итоговый вывод</b>\n",
    "\n",
    "При работе с проектом было выполнено:\n",
    "\n",
    "1. Изучены данные. Разбиты данные на тренировочную, валидационную и тестовую выборку.\n",
    "2. Исследована задача. Проверены модели на данных без изменений.\n",
    "3. Скоректирован балланс класса. Изменен вес класса.\n",
    "4. Получена улученная модель. Проведен поиск гиперпараметров.\n",
    "5. Проведен финальный тест.\n",
    "\n",
    "Обученная модель Случайного леса со взвешенными классами имеет достаточную адекватность, подтвержденная ее значением AUC-ROC = 0.863. Это лучше, чем Случайная модель предсказывания (AUC-ROC = 0.5). Точность попадания по классам 0.834, precision 0.58, recall 0.649 и f1 0.612. Модель старается собрать больше данных, чем показать верную точность (recall > precision). Процент попадания в классы достаточно высокий."
   ]
  }
 ],
 "metadata": {
  "ExecuteTimeLog": [
   {
    "duration": 1782,
    "start_time": "2022-10-05T11:16:15.858Z"
   },
   {
    "duration": 171,
    "start_time": "2022-10-05T11:16:20.327Z"
   },
   {
    "duration": 49,
    "start_time": "2022-10-05T11:16:41.210Z"
   },
   {
    "duration": 11,
    "start_time": "2022-10-05T11:17:14.835Z"
   },
   {
    "duration": 338,
    "start_time": "2022-10-05T11:17:26.537Z"
   },
   {
    "duration": 14,
    "start_time": "2022-10-05T11:17:27.913Z"
   },
   {
    "duration": 6,
    "start_time": "2022-10-05T11:19:41.497Z"
   },
   {
    "duration": 19,
    "start_time": "2022-10-05T11:22:12.437Z"
   },
   {
    "duration": 1481,
    "start_time": "2022-10-05T11:23:29.014Z"
   },
   {
    "duration": 47,
    "start_time": "2022-10-05T11:23:30.497Z"
   },
   {
    "duration": 15,
    "start_time": "2022-10-05T11:23:30.546Z"
   },
   {
    "duration": 16,
    "start_time": "2022-10-05T11:23:30.564Z"
   },
   {
    "duration": 11,
    "start_time": "2022-10-05T11:23:30.582Z"
   },
   {
    "duration": 4,
    "start_time": "2022-10-05T11:23:40.001Z"
   },
   {
    "duration": 124,
    "start_time": "2022-10-05T11:23:48.037Z"
   },
   {
    "duration": 14,
    "start_time": "2022-10-05T11:23:51.731Z"
   },
   {
    "duration": 19,
    "start_time": "2022-10-05T11:24:09.208Z"
   },
   {
    "duration": 158,
    "start_time": "2022-10-05T11:26:03.143Z"
   },
   {
    "duration": 155,
    "start_time": "2022-10-05T11:26:28.479Z"
   },
   {
    "duration": 100,
    "start_time": "2022-10-05T11:26:57.832Z"
   },
   {
    "duration": 180,
    "start_time": "2022-10-05T11:27:48.922Z"
   },
   {
    "duration": 138,
    "start_time": "2022-10-05T11:28:13.413Z"
   },
   {
    "duration": 987,
    "start_time": "2022-10-05T11:28:16.553Z"
   },
   {
    "duration": 131,
    "start_time": "2022-10-05T11:29:12.440Z"
   },
   {
    "duration": 183,
    "start_time": "2022-10-05T11:30:23.868Z"
   },
   {
    "duration": 198,
    "start_time": "2022-10-05T11:30:46.778Z"
   },
   {
    "duration": 157,
    "start_time": "2022-10-05T11:31:04.568Z"
   },
   {
    "duration": 15,
    "start_time": "2022-10-05T11:31:44.904Z"
   },
   {
    "duration": 128,
    "start_time": "2022-10-05T11:31:49.126Z"
   },
   {
    "duration": 13,
    "start_time": "2022-10-05T11:32:38.077Z"
   },
   {
    "duration": 18,
    "start_time": "2022-10-05T11:32:43.250Z"
   },
   {
    "duration": 1672,
    "start_time": "2022-10-05T11:36:59.734Z"
   },
   {
    "duration": 44,
    "start_time": "2022-10-05T11:37:01.410Z"
   },
   {
    "duration": 19,
    "start_time": "2022-10-05T11:37:01.456Z"
   },
   {
    "duration": 21,
    "start_time": "2022-10-05T11:37:01.477Z"
   },
   {
    "duration": 14,
    "start_time": "2022-10-05T11:37:01.501Z"
   },
   {
    "duration": 28,
    "start_time": "2022-10-05T11:37:01.517Z"
   },
   {
    "duration": 21,
    "start_time": "2022-10-05T11:37:01.547Z"
   },
   {
    "duration": 184,
    "start_time": "2022-10-05T11:37:01.570Z"
   },
   {
    "duration": 1160,
    "start_time": "2022-10-05T11:37:01.756Z"
   },
   {
    "duration": 199,
    "start_time": "2022-10-05T11:37:02.918Z"
   },
   {
    "duration": 224,
    "start_time": "2022-10-05T11:37:03.119Z"
   },
   {
    "duration": 26,
    "start_time": "2022-10-05T11:37:03.345Z"
   },
   {
    "duration": 28,
    "start_time": "2022-10-05T11:37:03.373Z"
   },
   {
    "duration": 7,
    "start_time": "2022-10-05T11:37:03.404Z"
   },
   {
    "duration": 13,
    "start_time": "2022-10-05T11:37:03.413Z"
   },
   {
    "duration": 62,
    "start_time": "2022-10-05T11:37:03.429Z"
   },
   {
    "duration": 140,
    "start_time": "2022-10-05T11:37:03.493Z"
   },
   {
    "duration": 0,
    "start_time": "2022-10-05T11:37:03.634Z"
   },
   {
    "duration": 0,
    "start_time": "2022-10-05T11:37:03.636Z"
   },
   {
    "duration": 13,
    "start_time": "2022-10-05T11:37:21.091Z"
   },
   {
    "duration": 29,
    "start_time": "2022-10-05T11:37:32.170Z"
   },
   {
    "duration": 24,
    "start_time": "2022-10-05T11:37:33.536Z"
   },
   {
    "duration": 4,
    "start_time": "2022-10-05T11:37:34.357Z"
   },
   {
    "duration": 191,
    "start_time": "2022-10-05T11:38:51.786Z"
   },
   {
    "duration": 5793,
    "start_time": "2022-10-05T11:40:27.643Z"
   },
   {
    "duration": 617,
    "start_time": "2022-10-05T11:41:47.682Z"
   },
   {
    "duration": 75,
    "start_time": "2022-10-05T11:42:24.550Z"
   },
   {
    "duration": 82,
    "start_time": "2022-10-05T11:42:46.354Z"
   },
   {
    "duration": 4,
    "start_time": "2022-10-05T11:45:21.170Z"
   },
   {
    "duration": 10,
    "start_time": "2022-10-05T11:45:33.218Z"
   },
   {
    "duration": 9,
    "start_time": "2022-10-05T11:45:38.969Z"
   },
   {
    "duration": 6,
    "start_time": "2022-10-05T11:47:18.301Z"
   },
   {
    "duration": 12,
    "start_time": "2022-10-05T11:47:33.593Z"
   },
   {
    "duration": 158,
    "start_time": "2022-10-05T11:48:28.945Z"
   },
   {
    "duration": 1394,
    "start_time": "2022-10-05T11:48:45.930Z"
   },
   {
    "duration": 45,
    "start_time": "2022-10-05T11:48:47.327Z"
   },
   {
    "duration": 16,
    "start_time": "2022-10-05T11:48:47.378Z"
   },
   {
    "duration": 5,
    "start_time": "2022-10-05T11:48:47.398Z"
   },
   {
    "duration": 32,
    "start_time": "2022-10-05T11:48:47.405Z"
   },
   {
    "duration": 22,
    "start_time": "2022-10-05T11:48:47.440Z"
   },
   {
    "duration": 18,
    "start_time": "2022-10-05T11:48:47.464Z"
   },
   {
    "duration": 175,
    "start_time": "2022-10-05T11:48:47.488Z"
   },
   {
    "duration": 950,
    "start_time": "2022-10-05T11:48:47.664Z"
   },
   {
    "duration": 188,
    "start_time": "2022-10-05T11:48:48.617Z"
   },
   {
    "duration": 209,
    "start_time": "2022-10-05T11:48:48.808Z"
   },
   {
    "duration": 16,
    "start_time": "2022-10-05T11:48:49.018Z"
   },
   {
    "duration": 12,
    "start_time": "2022-10-05T11:48:49.037Z"
   },
   {
    "duration": 39,
    "start_time": "2022-10-05T11:48:49.050Z"
   },
   {
    "duration": 7,
    "start_time": "2022-10-05T11:48:49.091Z"
   },
   {
    "duration": 32,
    "start_time": "2022-10-05T11:48:49.100Z"
   },
   {
    "duration": 19,
    "start_time": "2022-10-05T11:48:49.133Z"
   },
   {
    "duration": 46,
    "start_time": "2022-10-05T11:48:49.153Z"
   },
   {
    "duration": 6,
    "start_time": "2022-10-05T11:48:49.201Z"
   },
   {
    "duration": 87,
    "start_time": "2022-10-05T11:48:49.209Z"
   },
   {
    "duration": 0,
    "start_time": "2022-10-05T11:48:49.297Z"
   },
   {
    "duration": 0,
    "start_time": "2022-10-05T11:48:49.300Z"
   },
   {
    "duration": 0,
    "start_time": "2022-10-05T11:48:49.301Z"
   },
   {
    "duration": 0,
    "start_time": "2022-10-05T11:48:49.302Z"
   },
   {
    "duration": 0,
    "start_time": "2022-10-05T11:48:49.303Z"
   },
   {
    "duration": 0,
    "start_time": "2022-10-05T11:48:49.304Z"
   },
   {
    "duration": 0,
    "start_time": "2022-10-05T11:48:49.306Z"
   },
   {
    "duration": 0,
    "start_time": "2022-10-05T11:48:49.307Z"
   },
   {
    "duration": 0,
    "start_time": "2022-10-05T11:48:49.308Z"
   },
   {
    "duration": 1485,
    "start_time": "2022-10-05T11:49:04.306Z"
   },
   {
    "duration": 42,
    "start_time": "2022-10-05T11:49:05.794Z"
   },
   {
    "duration": 15,
    "start_time": "2022-10-05T11:49:05.838Z"
   },
   {
    "duration": 9,
    "start_time": "2022-10-05T11:49:05.855Z"
   },
   {
    "duration": 27,
    "start_time": "2022-10-05T11:49:05.867Z"
   },
   {
    "duration": 13,
    "start_time": "2022-10-05T11:49:05.896Z"
   },
   {
    "duration": 15,
    "start_time": "2022-10-05T11:49:05.911Z"
   },
   {
    "duration": 195,
    "start_time": "2022-10-05T11:49:05.928Z"
   },
   {
    "duration": 951,
    "start_time": "2022-10-05T11:49:06.124Z"
   },
   {
    "duration": 191,
    "start_time": "2022-10-05T11:49:07.076Z"
   },
   {
    "duration": 257,
    "start_time": "2022-10-05T11:49:07.269Z"
   },
   {
    "duration": 21,
    "start_time": "2022-10-05T11:49:07.528Z"
   },
   {
    "duration": 13,
    "start_time": "2022-10-05T11:49:07.550Z"
   },
   {
    "duration": 7,
    "start_time": "2022-10-05T11:49:07.588Z"
   },
   {
    "duration": 7,
    "start_time": "2022-10-05T11:49:07.598Z"
   },
   {
    "duration": 31,
    "start_time": "2022-10-05T11:49:07.607Z"
   },
   {
    "duration": 57,
    "start_time": "2022-10-05T11:49:07.639Z"
   },
   {
    "duration": 15,
    "start_time": "2022-10-05T11:49:07.697Z"
   },
   {
    "duration": 6,
    "start_time": "2022-10-05T11:49:07.714Z"
   },
   {
    "duration": 179,
    "start_time": "2022-10-05T11:49:07.722Z"
   },
   {
    "duration": 5859,
    "start_time": "2022-10-05T11:49:07.903Z"
   },
   {
    "duration": 224,
    "start_time": "2022-10-05T11:49:13.765Z"
   },
   {
    "duration": 6,
    "start_time": "2022-10-05T11:49:13.992Z"
   },
   {
    "duration": 96,
    "start_time": "2022-10-05T11:49:14.001Z"
   },
   {
    "duration": 5,
    "start_time": "2022-10-05T11:49:14.099Z"
   },
   {
    "duration": 12,
    "start_time": "2022-10-05T11:49:14.106Z"
   },
   {
    "duration": 93,
    "start_time": "2022-10-05T11:49:14.120Z"
   },
   {
    "duration": 0,
    "start_time": "2022-10-05T11:49:14.215Z"
   },
   {
    "duration": 233,
    "start_time": "2022-10-05T11:49:23.370Z"
   },
   {
    "duration": 103,
    "start_time": "2022-10-05T11:50:06.325Z"
   },
   {
    "duration": 91,
    "start_time": "2022-10-05T11:51:17.193Z"
   },
   {
    "duration": 215,
    "start_time": "2022-10-05T11:51:44.562Z"
   },
   {
    "duration": 135,
    "start_time": "2022-10-05T11:52:39.145Z"
   },
   {
    "duration": 115,
    "start_time": "2022-10-05T11:52:44.201Z"
   },
   {
    "duration": 18,
    "start_time": "2022-10-05T11:53:35.045Z"
   },
   {
    "duration": 12,
    "start_time": "2022-10-05T11:53:45.739Z"
   },
   {
    "duration": 17,
    "start_time": "2022-10-05T11:54:10.247Z"
   },
   {
    "duration": 5,
    "start_time": "2022-10-05T11:55:52.673Z"
   },
   {
    "duration": 11,
    "start_time": "2022-10-05T11:55:59.938Z"
   },
   {
    "duration": 1446,
    "start_time": "2022-10-05T11:56:38.630Z"
   },
   {
    "duration": 43,
    "start_time": "2022-10-05T11:56:40.078Z"
   },
   {
    "duration": 14,
    "start_time": "2022-10-05T11:56:40.124Z"
   },
   {
    "duration": 5,
    "start_time": "2022-10-05T11:56:40.140Z"
   },
   {
    "duration": 6,
    "start_time": "2022-10-05T11:56:40.148Z"
   },
   {
    "duration": 19,
    "start_time": "2022-10-05T11:56:40.156Z"
   },
   {
    "duration": 18,
    "start_time": "2022-10-05T11:56:40.189Z"
   },
   {
    "duration": 203,
    "start_time": "2022-10-05T11:56:40.209Z"
   },
   {
    "duration": 985,
    "start_time": "2022-10-05T11:56:40.413Z"
   },
   {
    "duration": 190,
    "start_time": "2022-10-05T11:56:41.399Z"
   },
   {
    "duration": 214,
    "start_time": "2022-10-05T11:56:41.591Z"
   },
   {
    "duration": 22,
    "start_time": "2022-10-05T11:56:41.807Z"
   },
   {
    "duration": 14,
    "start_time": "2022-10-05T11:56:41.831Z"
   },
   {
    "duration": 8,
    "start_time": "2022-10-05T11:56:41.849Z"
   },
   {
    "duration": 40,
    "start_time": "2022-10-05T11:56:41.862Z"
   },
   {
    "duration": 52,
    "start_time": "2022-10-05T11:56:41.904Z"
   },
   {
    "duration": 34,
    "start_time": "2022-10-05T11:56:41.958Z"
   },
   {
    "duration": 23,
    "start_time": "2022-10-05T11:56:41.994Z"
   },
   {
    "duration": 6,
    "start_time": "2022-10-05T11:56:42.019Z"
   },
   {
    "duration": 195,
    "start_time": "2022-10-05T11:56:42.028Z"
   },
   {
    "duration": 5489,
    "start_time": "2022-10-05T11:56:42.225Z"
   },
   {
    "duration": 281,
    "start_time": "2022-10-05T11:56:47.716Z"
   },
   {
    "duration": 190,
    "start_time": "2022-10-05T11:56:47.999Z"
   },
   {
    "duration": 16,
    "start_time": "2022-10-05T11:56:48.191Z"
   },
   {
    "duration": 18,
    "start_time": "2022-10-05T11:56:48.209Z"
   },
   {
    "duration": 16,
    "start_time": "2022-10-05T11:56:48.229Z"
   },
   {
    "duration": 213,
    "start_time": "2022-10-05T11:56:48.247Z"
   },
   {
    "duration": 190,
    "start_time": "2022-10-05T11:56:48.461Z"
   },
   {
    "duration": 110,
    "start_time": "2022-10-05T11:56:48.652Z"
   },
   {
    "duration": 16,
    "start_time": "2022-10-05T11:56:48.763Z"
   },
   {
    "duration": 0,
    "start_time": "2022-10-05T11:56:48.780Z"
   },
   {
    "duration": 0,
    "start_time": "2022-10-05T11:56:48.782Z"
   },
   {
    "duration": 0,
    "start_time": "2022-10-05T11:56:48.783Z"
   },
   {
    "duration": 0,
    "start_time": "2022-10-05T11:56:48.784Z"
   },
   {
    "duration": 0,
    "start_time": "2022-10-05T11:56:48.785Z"
   },
   {
    "duration": 0,
    "start_time": "2022-10-05T11:56:48.787Z"
   },
   {
    "duration": 0,
    "start_time": "2022-10-05T11:56:48.788Z"
   },
   {
    "duration": 0,
    "start_time": "2022-10-05T11:56:48.789Z"
   },
   {
    "duration": 0,
    "start_time": "2022-10-05T11:56:48.790Z"
   },
   {
    "duration": 0,
    "start_time": "2022-10-05T11:56:48.791Z"
   },
   {
    "duration": 0,
    "start_time": "2022-10-05T11:56:48.792Z"
   },
   {
    "duration": 4,
    "start_time": "2022-10-05T11:57:00.305Z"
   },
   {
    "duration": 4,
    "start_time": "2022-10-05T11:58:22.908Z"
   },
   {
    "duration": 10,
    "start_time": "2022-10-05T11:58:42.666Z"
   },
   {
    "duration": 5,
    "start_time": "2022-10-05T11:59:07.049Z"
   },
   {
    "duration": 4,
    "start_time": "2022-10-05T12:00:04.071Z"
   },
   {
    "duration": 10,
    "start_time": "2022-10-05T12:00:06.215Z"
   },
   {
    "duration": 13,
    "start_time": "2022-10-05T12:06:01.222Z"
   },
   {
    "duration": 12,
    "start_time": "2022-10-05T12:06:24.450Z"
   },
   {
    "duration": 11,
    "start_time": "2022-10-05T12:07:49.052Z"
   },
   {
    "duration": 9,
    "start_time": "2022-10-05T12:08:12.932Z"
   },
   {
    "duration": 21,
    "start_time": "2022-10-05T12:08:19.112Z"
   },
   {
    "duration": 10,
    "start_time": "2022-10-05T12:09:22.822Z"
   },
   {
    "duration": 6,
    "start_time": "2022-10-05T12:09:39.009Z"
   },
   {
    "duration": 154,
    "start_time": "2022-10-05T12:10:24.288Z"
   },
   {
    "duration": 651,
    "start_time": "2022-10-05T12:10:47.312Z"
   },
   {
    "duration": 27630,
    "start_time": "2022-10-05T12:11:31.739Z"
   },
   {
    "duration": 7180,
    "start_time": "2022-10-05T12:12:19.324Z"
   },
   {
    "duration": 86,
    "start_time": "2022-10-05T12:13:11.439Z"
   },
   {
    "duration": 33,
    "start_time": "2022-10-05T12:13:22.384Z"
   },
   {
    "duration": 12,
    "start_time": "2022-10-05T12:13:59.563Z"
   },
   {
    "duration": 12,
    "start_time": "2022-10-05T12:14:05.547Z"
   },
   {
    "duration": 17,
    "start_time": "2022-10-05T12:14:22.889Z"
   },
   {
    "duration": 14,
    "start_time": "2022-10-05T12:14:29.904Z"
   },
   {
    "duration": 112506,
    "start_time": "2022-10-05T12:15:44.424Z"
   },
   {
    "duration": 74642,
    "start_time": "2022-10-05T12:18:04.958Z"
   },
   {
    "duration": 2206,
    "start_time": "2022-10-05T12:19:19.604Z"
   },
   {
    "duration": 3912,
    "start_time": "2022-10-05T12:20:17.114Z"
   },
   {
    "duration": 3828,
    "start_time": "2022-10-05T12:20:27.681Z"
   },
   {
    "duration": 3959,
    "start_time": "2022-10-05T12:20:49.179Z"
   },
   {
    "duration": 3814,
    "start_time": "2022-10-05T12:21:00.064Z"
   },
   {
    "duration": 2126,
    "start_time": "2022-10-05T12:21:35.835Z"
   },
   {
    "duration": 9702,
    "start_time": "2022-10-05T12:21:49.654Z"
   },
   {
    "duration": 115,
    "start_time": "2022-10-05T12:23:33.590Z"
   },
   {
    "duration": 2174,
    "start_time": "2022-10-05T12:25:18.993Z"
   },
   {
    "duration": 9527,
    "start_time": "2022-10-05T12:25:34.017Z"
   },
   {
    "duration": 5,
    "start_time": "2022-10-05T12:29:39.070Z"
   },
   {
    "duration": 8793,
    "start_time": "2022-10-05T12:29:45.386Z"
   },
   {
    "duration": 43,
    "start_time": "2022-10-05T18:16:50.770Z"
   },
   {
    "duration": 1626,
    "start_time": "2022-10-05T18:16:55.798Z"
   },
   {
    "duration": 339,
    "start_time": "2022-10-05T18:16:57.427Z"
   },
   {
    "duration": 12,
    "start_time": "2022-10-05T18:16:57.768Z"
   },
   {
    "duration": 14,
    "start_time": "2022-10-05T18:16:57.782Z"
   },
   {
    "duration": 12,
    "start_time": "2022-10-05T18:16:57.798Z"
   },
   {
    "duration": 19,
    "start_time": "2022-10-05T18:16:57.811Z"
   },
   {
    "duration": 13,
    "start_time": "2022-10-05T18:16:57.832Z"
   },
   {
    "duration": 23,
    "start_time": "2022-10-05T18:16:57.847Z"
   },
   {
    "duration": 12,
    "start_time": "2022-10-05T18:16:57.872Z"
   },
   {
    "duration": 8,
    "start_time": "2022-10-05T18:16:57.885Z"
   },
   {
    "duration": 729,
    "start_time": "2022-10-05T18:16:57.895Z"
   },
   {
    "duration": 26369,
    "start_time": "2022-10-05T18:16:58.625Z"
   },
   {
    "duration": 6588,
    "start_time": "2022-10-05T18:17:24.995Z"
   },
   {
    "duration": 40,
    "start_time": "2022-10-05T18:17:31.585Z"
   },
   {
    "duration": 103,
    "start_time": "2022-10-05T18:17:31.627Z"
   },
   {
    "duration": 13,
    "start_time": "2022-10-05T18:17:31.822Z"
   },
   {
    "duration": 104136,
    "start_time": "2022-10-05T18:17:31.836Z"
   },
   {
    "duration": 66851,
    "start_time": "2022-10-05T18:19:15.974Z"
   },
   {
    "duration": 3695,
    "start_time": "2022-10-05T18:20:22.826Z"
   },
   {
    "duration": 7855,
    "start_time": "2022-10-05T18:20:26.523Z"
   },
   {
    "duration": 8862,
    "start_time": "2022-10-05T18:20:34.379Z"
   },
   {
    "duration": 76,
    "start_time": "2022-10-05T18:24:47.456Z"
   },
   {
    "duration": 510,
    "start_time": "2022-10-05T18:25:12.923Z"
   },
   {
    "duration": 378,
    "start_time": "2022-10-05T18:25:19.567Z"
   },
   {
    "duration": 407,
    "start_time": "2022-10-05T18:25:31.818Z"
   },
   {
    "duration": 761,
    "start_time": "2022-10-05T18:26:32.120Z"
   },
   {
    "duration": 733,
    "start_time": "2022-10-05T18:26:45.839Z"
   },
   {
    "duration": 758,
    "start_time": "2022-10-05T18:27:48.291Z"
   },
   {
    "duration": 76,
    "start_time": "2022-10-05T18:28:11.836Z"
   },
   {
    "duration": 77,
    "start_time": "2022-10-05T18:28:40.703Z"
   },
   {
    "duration": 73,
    "start_time": "2022-10-05T18:29:01.907Z"
   },
   {
    "duration": 521,
    "start_time": "2022-10-05T18:33:35.205Z"
   },
   {
    "duration": 398,
    "start_time": "2022-10-05T18:33:48.832Z"
   },
   {
    "duration": 634,
    "start_time": "2022-10-05T18:35:30.081Z"
   },
   {
    "duration": 513,
    "start_time": "2022-10-05T18:37:21.548Z"
   },
   {
    "duration": 551,
    "start_time": "2022-10-05T18:37:38.873Z"
   },
   {
    "duration": 13,
    "start_time": "2022-10-05T18:38:53.065Z"
   },
   {
    "duration": 304,
    "start_time": "2022-10-05T18:39:07.421Z"
   },
   {
    "duration": 892,
    "start_time": "2022-10-05T18:40:35.873Z"
   },
   {
    "duration": 34861,
    "start_time": "2022-10-05T18:44:06.749Z"
   },
   {
    "duration": 3625,
    "start_time": "2022-10-05T18:45:24.978Z"
   },
   {
    "duration": 3547,
    "start_time": "2022-10-05T18:45:32.908Z"
   },
   {
    "duration": 40034,
    "start_time": "2022-10-05T18:46:39.952Z"
   },
   {
    "duration": 90,
    "start_time": "2022-10-05T18:48:22.464Z"
   },
   {
    "duration": 38869,
    "start_time": "2022-10-05T18:48:34.785Z"
   },
   {
    "duration": 33816,
    "start_time": "2022-10-05T18:49:13.656Z"
   },
   {
    "duration": 8338,
    "start_time": "2022-10-05T18:50:35.344Z"
   },
   {
    "duration": 9315,
    "start_time": "2022-10-05T18:51:01.764Z"
   },
   {
    "duration": 1453,
    "start_time": "2022-10-05T18:56:51.010Z"
   },
   {
    "duration": 39,
    "start_time": "2022-10-05T18:56:52.465Z"
   },
   {
    "duration": 12,
    "start_time": "2022-10-05T18:56:52.505Z"
   },
   {
    "duration": 17,
    "start_time": "2022-10-05T18:56:52.519Z"
   },
   {
    "duration": 22,
    "start_time": "2022-10-05T18:56:52.538Z"
   },
   {
    "duration": 34,
    "start_time": "2022-10-05T18:56:52.562Z"
   },
   {
    "duration": 36,
    "start_time": "2022-10-05T18:56:52.598Z"
   },
   {
    "duration": 40,
    "start_time": "2022-10-05T18:56:52.636Z"
   },
   {
    "duration": 11,
    "start_time": "2022-10-05T18:56:52.677Z"
   },
   {
    "duration": 28,
    "start_time": "2022-10-05T18:56:52.690Z"
   },
   {
    "duration": 787,
    "start_time": "2022-10-05T18:56:52.720Z"
   },
   {
    "duration": 26121,
    "start_time": "2022-10-05T18:56:53.508Z"
   },
   {
    "duration": 6557,
    "start_time": "2022-10-05T18:57:19.631Z"
   },
   {
    "duration": 34,
    "start_time": "2022-10-05T18:57:26.191Z"
   },
   {
    "duration": 598,
    "start_time": "2022-10-05T18:57:26.227Z"
   },
   {
    "duration": 870,
    "start_time": "2022-10-05T18:57:26.826Z"
   },
   {
    "duration": 425,
    "start_time": "2022-10-05T18:57:27.698Z"
   },
   {
    "duration": 102,
    "start_time": "2022-10-05T18:57:28.124Z"
   },
   {
    "duration": 522,
    "start_time": "2022-10-05T18:57:28.228Z"
   },
   {
    "duration": 81,
    "start_time": "2022-10-05T18:57:28.752Z"
   },
   {
    "duration": 224,
    "start_time": "2022-10-05T18:57:28.921Z"
   },
   {
    "duration": 928,
    "start_time": "2022-10-05T18:57:29.222Z"
   },
   {
    "duration": 104260,
    "start_time": "2022-10-05T18:57:30.152Z"
   },
   {
    "duration": 3938,
    "start_time": "2022-10-05T18:59:50.389Z"
   },
   {
    "duration": 40432,
    "start_time": "2022-10-05T18:59:54.330Z"
   },
   {
    "duration": 36168,
    "start_time": "2022-10-05T19:00:34.764Z"
   },
   {
    "duration": 8334,
    "start_time": "2022-10-05T19:01:10.938Z"
   },
   {
    "duration": 8270,
    "start_time": "2022-10-05T19:01:19.273Z"
   },
   {
    "duration": 8977,
    "start_time": "2022-10-05T19:01:27.545Z"
   },
   {
    "duration": 1281,
    "start_time": "2022-10-05T19:02:34.699Z"
   },
   {
    "duration": 41,
    "start_time": "2022-10-05T19:02:35.981Z"
   },
   {
    "duration": 14,
    "start_time": "2022-10-05T19:02:36.024Z"
   },
   {
    "duration": 4,
    "start_time": "2022-10-05T19:02:36.041Z"
   },
   {
    "duration": 14,
    "start_time": "2022-10-05T19:02:36.047Z"
   },
   {
    "duration": 23,
    "start_time": "2022-10-05T19:02:36.063Z"
   },
   {
    "duration": 19,
    "start_time": "2022-10-05T19:02:36.088Z"
   },
   {
    "duration": 30,
    "start_time": "2022-10-05T19:02:36.109Z"
   },
   {
    "duration": 11,
    "start_time": "2022-10-05T19:02:36.141Z"
   },
   {
    "duration": 6,
    "start_time": "2022-10-05T19:02:36.155Z"
   },
   {
    "duration": 707,
    "start_time": "2022-10-05T19:02:36.162Z"
   },
   {
    "duration": 27347,
    "start_time": "2022-10-05T19:02:36.871Z"
   },
   {
    "duration": 6987,
    "start_time": "2022-10-05T19:03:04.221Z"
   },
   {
    "duration": 44,
    "start_time": "2022-10-05T19:03:11.209Z"
   },
   {
    "duration": 507,
    "start_time": "2022-10-05T19:03:11.422Z"
   },
   {
    "duration": 861,
    "start_time": "2022-10-05T19:03:11.931Z"
   },
   {
    "duration": 431,
    "start_time": "2022-10-05T19:03:12.793Z"
   },
   {
    "duration": 98,
    "start_time": "2022-10-05T19:03:13.229Z"
   },
   {
    "duration": 595,
    "start_time": "2022-10-05T19:03:13.329Z"
   },
   {
    "duration": 98,
    "start_time": "2022-10-05T19:03:13.926Z"
   },
   {
    "duration": 300,
    "start_time": "2022-10-05T19:03:14.026Z"
   },
   {
    "duration": 952,
    "start_time": "2022-10-05T19:03:14.328Z"
   },
   {
    "duration": 104636,
    "start_time": "2022-10-05T19:03:15.281Z"
   },
   {
    "duration": 32086,
    "start_time": "2022-10-05T19:04:59.918Z"
   },
   {
    "duration": 3484,
    "start_time": "2022-10-05T19:05:32.006Z"
   },
   {
    "duration": 40839,
    "start_time": "2022-10-05T19:05:35.491Z"
   },
   {
    "duration": 34354,
    "start_time": "2022-10-05T19:06:16.332Z"
   },
   {
    "duration": 8394,
    "start_time": "2022-10-05T19:06:50.688Z"
   },
   {
    "duration": 8191,
    "start_time": "2022-10-05T19:06:59.084Z"
   },
   {
    "duration": 8821,
    "start_time": "2022-10-05T19:07:07.276Z"
   },
   {
    "duration": 12680,
    "start_time": "2022-10-05T19:08:37.494Z"
   },
   {
    "duration": 82668,
    "start_time": "2022-10-05T19:08:58.143Z"
   },
   {
    "duration": 4758,
    "start_time": "2022-10-05T19:10:35.108Z"
   },
   {
    "duration": 1460,
    "start_time": "2022-10-06T14:26:46.229Z"
   },
   {
    "duration": 81,
    "start_time": "2022-10-06T14:26:48.567Z"
   },
   {
    "duration": 14,
    "start_time": "2022-10-06T14:26:49.026Z"
   },
   {
    "duration": 4,
    "start_time": "2022-10-06T14:26:53.087Z"
   },
   {
    "duration": 115,
    "start_time": "2022-10-06T14:27:34.516Z"
   },
   {
    "duration": 5,
    "start_time": "2022-10-06T14:28:03.260Z"
   },
   {
    "duration": 4,
    "start_time": "2022-10-06T14:28:08.040Z"
   },
   {
    "duration": 13,
    "start_time": "2022-10-06T14:28:11.317Z"
   },
   {
    "duration": 15,
    "start_time": "2022-10-06T14:28:18.502Z"
   },
   {
    "duration": 72,
    "start_time": "2022-10-06T14:30:55.896Z"
   },
   {
    "duration": 10,
    "start_time": "2022-10-06T14:32:52.288Z"
   },
   {
    "duration": 10,
    "start_time": "2022-10-06T14:33:38.791Z"
   },
   {
    "duration": 8,
    "start_time": "2022-10-06T14:34:27.141Z"
   },
   {
    "duration": 8,
    "start_time": "2022-10-06T14:35:04.733Z"
   },
   {
    "duration": 11,
    "start_time": "2022-10-06T14:35:34.220Z"
   },
   {
    "duration": 11,
    "start_time": "2022-10-06T14:35:38.521Z"
   },
   {
    "duration": 4,
    "start_time": "2022-10-06T14:35:52.578Z"
   },
   {
    "duration": 11,
    "start_time": "2022-10-06T14:35:57.177Z"
   },
   {
    "duration": 4,
    "start_time": "2022-10-06T14:36:03.520Z"
   },
   {
    "duration": 2,
    "start_time": "2022-10-06T14:37:42.309Z"
   },
   {
    "duration": 169,
    "start_time": "2022-10-06T14:39:27.562Z"
   },
   {
    "duration": 1348,
    "start_time": "2022-10-06T14:39:38.255Z"
   },
   {
    "duration": 39,
    "start_time": "2022-10-06T14:39:39.605Z"
   },
   {
    "duration": 13,
    "start_time": "2022-10-06T14:39:39.646Z"
   },
   {
    "duration": 14,
    "start_time": "2022-10-06T14:39:39.661Z"
   },
   {
    "duration": 20,
    "start_time": "2022-10-06T14:39:39.676Z"
   },
   {
    "duration": 18,
    "start_time": "2022-10-06T14:39:39.697Z"
   },
   {
    "duration": 22,
    "start_time": "2022-10-06T14:39:39.716Z"
   },
   {
    "duration": 6,
    "start_time": "2022-10-06T14:39:39.740Z"
   },
   {
    "duration": 33,
    "start_time": "2022-10-06T14:39:39.748Z"
   },
   {
    "duration": 16,
    "start_time": "2022-10-06T14:39:39.784Z"
   },
   {
    "duration": 7,
    "start_time": "2022-10-06T14:39:39.802Z"
   },
   {
    "duration": 815,
    "start_time": "2022-10-06T14:39:39.810Z"
   },
   {
    "duration": 29712,
    "start_time": "2022-10-06T14:39:40.627Z"
   },
   {
    "duration": 7621,
    "start_time": "2022-10-06T14:40:10.340Z"
   },
   {
    "duration": 39,
    "start_time": "2022-10-06T14:40:17.962Z"
   },
   {
    "duration": 598,
    "start_time": "2022-10-06T14:40:18.005Z"
   },
   {
    "duration": 967,
    "start_time": "2022-10-06T14:40:18.605Z"
   },
   {
    "duration": 504,
    "start_time": "2022-10-06T14:40:19.575Z"
   },
   {
    "duration": 105,
    "start_time": "2022-10-06T14:40:20.082Z"
   },
   {
    "duration": 614,
    "start_time": "2022-10-06T14:40:20.188Z"
   },
   {
    "duration": 173,
    "start_time": "2022-10-06T14:40:20.804Z"
   },
   {
    "duration": 299,
    "start_time": "2022-10-06T14:40:20.979Z"
   },
   {
    "duration": 1002,
    "start_time": "2022-10-06T14:40:21.280Z"
   },
   {
    "duration": 116723,
    "start_time": "2022-10-06T14:40:22.285Z"
   },
   {
    "duration": 93050,
    "start_time": "2022-10-06T14:42:19.010Z"
   },
   {
    "duration": 5092,
    "start_time": "2022-10-06T14:43:52.061Z"
   },
   {
    "duration": 57035,
    "start_time": "2022-10-06T14:43:57.155Z"
   },
   {
    "duration": 50338,
    "start_time": "2022-10-06T14:44:54.192Z"
   },
   {
    "duration": 11612,
    "start_time": "2022-10-06T14:45:44.533Z"
   },
   {
    "duration": 11616,
    "start_time": "2022-10-06T14:45:56.148Z"
   },
   {
    "duration": 13085,
    "start_time": "2022-10-06T14:46:07.767Z"
   },
   {
    "duration": 502,
    "start_time": "2022-10-06T14:46:21.479Z"
   },
   {
    "duration": 494,
    "start_time": "2022-10-06T14:50:44.387Z"
   },
   {
    "duration": 852,
    "start_time": "2022-10-06T14:50:48.258Z"
   },
   {
    "duration": 87855,
    "start_time": "2022-10-06T14:51:34.685Z"
   },
   {
    "duration": 73411,
    "start_time": "2022-10-06T14:53:02.543Z"
   },
   {
    "duration": 38,
    "start_time": "2022-10-06T14:54:15.956Z"
   },
   {
    "duration": 512,
    "start_time": "2022-10-06T14:55:04.166Z"
   },
   {
    "duration": 808,
    "start_time": "2022-10-06T14:55:12.543Z"
   },
   {
    "duration": 806,
    "start_time": "2022-10-06T14:55:57.229Z"
   },
   {
    "duration": 788,
    "start_time": "2022-10-06T14:56:45.570Z"
   },
   {
    "duration": 1569,
    "start_time": "2022-10-06T17:39:31.721Z"
   },
   {
    "duration": 98,
    "start_time": "2022-10-06T17:39:34.605Z"
   },
   {
    "duration": 14,
    "start_time": "2022-10-06T17:39:35.040Z"
   },
   {
    "duration": 5,
    "start_time": "2022-10-06T17:39:36.753Z"
   },
   {
    "duration": 4,
    "start_time": "2022-10-06T17:39:42.667Z"
   },
   {
    "duration": 12,
    "start_time": "2022-10-06T17:39:45.781Z"
   },
   {
    "duration": 15,
    "start_time": "2022-10-06T17:39:48.753Z"
   },
   {
    "duration": 5,
    "start_time": "2022-10-06T17:40:27.425Z"
   },
   {
    "duration": 47,
    "start_time": "2022-10-06T17:40:36.685Z"
   },
   {
    "duration": 7,
    "start_time": "2022-10-06T17:40:47.634Z"
   },
   {
    "duration": 3,
    "start_time": "2022-10-06T17:40:55.135Z"
   },
   {
    "duration": 13,
    "start_time": "2022-10-06T17:40:59.200Z"
   },
   {
    "duration": 12,
    "start_time": "2022-10-06T17:40:59.980Z"
   },
   {
    "duration": 3,
    "start_time": "2022-10-06T17:41:04.222Z"
   },
   {
    "duration": 19,
    "start_time": "2022-10-06T17:41:05.674Z"
   },
   {
    "duration": 10,
    "start_time": "2022-10-06T17:41:09.429Z"
   },
   {
    "duration": 6,
    "start_time": "2022-10-06T17:41:11.311Z"
   },
   {
    "duration": 150,
    "start_time": "2022-10-06T17:41:29.265Z"
   },
   {
    "duration": 104,
    "start_time": "2022-10-06T17:41:45.233Z"
   },
   {
    "duration": 59,
    "start_time": "2022-10-06T17:42:12.413Z"
   },
   {
    "duration": 735,
    "start_time": "2022-10-06T17:42:23.425Z"
   },
   {
    "duration": 53,
    "start_time": "2022-10-06T17:43:13.908Z"
   },
   {
    "duration": 29082,
    "start_time": "2022-10-06T17:43:19.287Z"
   },
   {
    "duration": 54,
    "start_time": "2022-10-06T17:44:42.941Z"
   },
   {
    "duration": 20143,
    "start_time": "2022-10-06T17:44:51.701Z"
   },
   {
    "duration": 97,
    "start_time": "2022-10-06T17:45:45.081Z"
   },
   {
    "duration": 470,
    "start_time": "2022-10-06T17:45:56.914Z"
   },
   {
    "duration": 887,
    "start_time": "2022-10-06T17:46:07.910Z"
   },
   {
    "duration": 613,
    "start_time": "2022-10-06T17:47:46.264Z"
   },
   {
    "duration": 14,
    "start_time": "2022-10-06T17:47:50.264Z"
   },
   {
    "duration": 656,
    "start_time": "2022-10-06T17:47:53.222Z"
   },
   {
    "duration": 16,
    "start_time": "2022-10-06T17:48:07.048Z"
   },
   {
    "duration": 238,
    "start_time": "2022-10-06T17:48:08.157Z"
   },
   {
    "duration": 968,
    "start_time": "2022-10-06T17:48:58.466Z"
   },
   {
    "duration": 11,
    "start_time": "2022-10-06T17:54:13.225Z"
   },
   {
    "duration": 749,
    "start_time": "2022-10-06T17:55:50.967Z"
   },
   {
    "duration": 29724,
    "start_time": "2022-10-06T17:56:07.493Z"
   },
   {
    "duration": 19574,
    "start_time": "2022-10-06T17:56:51.417Z"
   },
   {
    "duration": 471,
    "start_time": "2022-10-06T17:57:41.807Z"
   },
   {
    "duration": 482,
    "start_time": "2022-10-06T17:58:47.496Z"
   },
   {
    "duration": 16,
    "start_time": "2022-10-06T17:59:11.563Z"
   },
   {
    "duration": 635,
    "start_time": "2022-10-06T18:00:10.357Z"
   },
   {
    "duration": 16,
    "start_time": "2022-10-06T18:00:17.963Z"
   },
   {
    "duration": 248,
    "start_time": "2022-10-06T18:01:07.257Z"
   },
   {
    "duration": 972,
    "start_time": "2022-10-06T18:01:56.983Z"
   },
   {
    "duration": 56,
    "start_time": "2022-10-06T18:02:12.755Z"
   },
   {
    "duration": 114310,
    "start_time": "2022-10-06T18:04:03.746Z"
   },
   {
    "duration": 37234,
    "start_time": "2022-10-06T18:05:58.058Z"
   },
   {
    "duration": 16711,
    "start_time": "2022-10-06T18:06:38.400Z"
   },
   {
    "duration": 1971,
    "start_time": "2022-10-06T18:07:15.393Z"
   },
   {
    "duration": 21126,
    "start_time": "2022-10-06T18:08:05.371Z"
   },
   {
    "duration": 21025,
    "start_time": "2022-10-06T18:08:56.290Z"
   },
   {
    "duration": 43,
    "start_time": "2022-10-06T18:09:29.623Z"
   },
   {
    "duration": 18546,
    "start_time": "2022-10-06T18:10:09.536Z"
   },
   {
    "duration": 4621,
    "start_time": "2022-10-06T18:12:18.602Z"
   },
   {
    "duration": 22,
    "start_time": "2022-10-06T18:13:00.916Z"
   },
   {
    "duration": 4380,
    "start_time": "2022-10-06T18:14:18.852Z"
   },
   {
    "duration": 13,
    "start_time": "2022-10-06T18:14:54.769Z"
   },
   {
    "duration": 10,
    "start_time": "2022-10-06T18:15:04.599Z"
   },
   {
    "duration": 10,
    "start_time": "2022-10-06T18:18:03.022Z"
   },
   {
    "duration": 11,
    "start_time": "2022-10-06T18:19:13.962Z"
   },
   {
    "duration": 12,
    "start_time": "2022-10-06T18:19:23.484Z"
   },
   {
    "duration": 10,
    "start_time": "2022-10-06T18:19:30.512Z"
   },
   {
    "duration": 9,
    "start_time": "2022-10-06T18:19:35.484Z"
   },
   {
    "duration": 2,
    "start_time": "2022-10-06T18:20:18.764Z"
   },
   {
    "duration": 43,
    "start_time": "2022-10-06T18:20:36.435Z"
   }
  ],
  "kernelspec": {
   "display_name": "Python 3 (ipykernel)",
   "language": "python",
   "name": "python3"
  },
  "language_info": {
   "codemirror_mode": {
    "name": "ipython",
    "version": 3
   },
   "file_extension": ".py",
   "mimetype": "text/x-python",
   "name": "python",
   "nbconvert_exporter": "python",
   "pygments_lexer": "ipython3",
   "version": "3.9.5"
  },
  "toc": {
   "base_numbering": 1,
   "nav_menu": {},
   "number_sections": true,
   "sideBar": true,
   "skip_h1_title": true,
   "title_cell": "Содержание",
   "title_sidebar": "Contents",
   "toc_cell": true,
   "toc_position": {
    "height": "calc(100% - 180px)",
    "left": "10px",
    "top": "150px",
    "width": "237.797px"
   },
   "toc_section_display": true,
   "toc_window_display": true
  }
 },
 "nbformat": 4,
 "nbformat_minor": 2
}
